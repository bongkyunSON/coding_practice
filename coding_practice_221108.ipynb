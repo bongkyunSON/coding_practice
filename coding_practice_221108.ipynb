{
  "nbformat": 4,
  "nbformat_minor": 0,
  "metadata": {
    "colab": {
      "provenance": [],
      "collapsed_sections": [],
      "authorship_tag": "ABX9TyPrQyaeMxQ1O3Nv9oBXeAwi",
      "include_colab_link": true
    },
    "kernelspec": {
      "name": "python3",
      "display_name": "Python 3"
    },
    "language_info": {
      "name": "python"
    }
  },
  "cells": [
    {
      "cell_type": "markdown",
      "metadata": {
        "id": "view-in-github",
        "colab_type": "text"
      },
      "source": [
        "<a href=\"https://colab.research.google.com/github/bongkyunSON/coding_practice/blob/main/coding_practice_221108.ipynb\" target=\"_parent\"><img src=\"https://colab.research.google.com/assets/colab-badge.svg\" alt=\"Open In Colab\"/></a>"
      ]
    },
    {
      "cell_type": "code",
      "execution_count": null,
      "metadata": {
        "colab": {
          "base_uri": "https://localhost:8080/",
          "height": 90
        },
        "id": "9Dx-w3HS3DdZ",
        "outputId": "658bafd5-e9d7-48d5-ac2a-d00af0c2fccd"
      },
      "outputs": [
        {
          "output_type": "execute_result",
          "data": {
            "text/plain": [
              "'\\n문제\\n대소문자 변환\\n대문자와 소문자가 같이 존재하는 문자열을 입력받아 대문자는 소문자로 소문자는 대문자로 \\n변환하려고 합니다.\\n매개변수 s에 대소문자가 존재하는 문자열이 입력되면 문자열 s의 대문자는 소문자로, 소문자\\n는 대문자로 변환하여 반환하는 프로그램을 작성하세요.\\n\\n\\n입출력 예:\\n제한사항:\\n• 문자열 s의 길이는 100을 넘지 않습니다.\\n\\n\"StuDY\" “sTUdy\"\\n\"TeachER\" \"tEACHer\"\\n\"Good\" \"gOOD\"\\n\\n'"
            ],
            "application/vnd.google.colaboratory.intrinsic+json": {
              "type": "string"
            }
          },
          "metadata": {},
          "execution_count": 1
        }
      ],
      "source": [
        "#1번 : 대소문자변환\n",
        "\n",
        "\"\"\"\n",
        "문제\n",
        "대소문자 변환\n",
        "대문자와 소문자가 같이 존재하는 문자열을 입력받아 대문자는 소문자로 소문자는 대문자로 \n",
        "변환하려고 합니다.\n",
        "매개변수 s에 대소문자가 존재하는 문자열이 입력되면 문자열 s의 대문자는 소문자로, 소문자\n",
        "는 대문자로 변환하여 반환하는 프로그램을 작성하세요.\n",
        "\n",
        "\n",
        "입출력 예:\n",
        "제한사항:\n",
        "• 문자열 s의 길이는 100을 넘지 않습니다.\n",
        "\n",
        "\"StuDY\" “sTUdy\"\n",
        "\"TeachER\" \"tEACHer\"\n",
        "\"Good\" \"gOOD\"\n",
        "\n",
        "\"\"\""
      ]
    },
    {
      "cell_type": "code",
      "source": [
        "def solution(s):\n",
        "    answer = \"\"\n",
        "    for i in s:\n",
        "        if i.isupper():\n",
        "            answer += i.lower()\n",
        "        else:\n",
        "            answer += i.upper()\n",
        "\n",
        "    return answer\n",
        "\n",
        "print(solution(\"StuDY\"))\n",
        "print(solution(\"TeachER\"))\n",
        "print(solution(\"Good\"))"
      ],
      "metadata": {
        "colab": {
          "base_uri": "https://localhost:8080/"
        },
        "id": "7dWWGv833Gq-",
        "outputId": "81ef9ab0-1789-44fe-bf73-19dca4c37a14"
      },
      "execution_count": null,
      "outputs": [
        {
          "output_type": "stream",
          "name": "stdout",
          "text": [
            "sTUdy\n",
            "tEACHer\n",
            "gOOD\n"
          ]
        }
      ]
    },
    {
      "cell_type": "code",
      "source": [
        "\"\"\"\n",
        "중복문자제거\n",
        "소문자로 된 한개의 문자열이 입력되면 중복된 문자를 제거하려고 합니다.\n",
        "매개변수 s에 문자열이 입력되면 중복된 문자는 제거하고 모든 문자는 오직 하나만 있게 하여 \n",
        "반환하는 프로그램을 작성하세요.\n",
        "제거된 문자열의 각 문자는 원래 문자열의 순서를 유지합니다.\n",
        "입출력 예:\n",
        "\n",
        "\n",
        "    s                            result\n",
        "\"ksekkset\"                      \"kset\"\n",
        "\"sssssttessskssee\"              \"stek\"\n",
        "\"itistime\"                      \"itsm\n",
        "\n",
        "\n",
        "제한사항:\n",
        "• 문자열의 길이는 100을 넘지 않습니다.\n",
        "\n",
        "\"\"\""
      ],
      "metadata": {
        "id": "N_vV3J0p5P8r"
      },
      "execution_count": null,
      "outputs": []
    },
    {
      "cell_type": "code",
      "source": [
        "def solution(s):\n",
        "    answer = \"\"\n",
        "    for i in range(len(s)):\n",
        "        if s.find(s[i]) == i:\n",
        "            answer += s[i]\n",
        "\n",
        "    return answer\n",
        "\n",
        "print(solution(\"ksekkset\"))\n",
        "print(solution(\"sssssttessskssee\"))\n",
        "print(solution(\"itistime\"))"
      ],
      "metadata": {
        "colab": {
          "base_uri": "https://localhost:8080/"
        },
        "id": "4APbReeA5W5v",
        "outputId": "c639cee7-3101-4d35-eb8a-e1ce149a713b"
      },
      "execution_count": null,
      "outputs": [
        {
          "output_type": "stream",
          "name": "stdout",
          "text": [
            "kset\n",
            "stek\n",
            "itsme\n"
          ]
        }
      ]
    },
    {
      "cell_type": "code",
      "source": [
        "def solution(s):\n",
        "    answer = \"\"\n",
        "    for i in range(len(s)):\n",
        "        if s.find(s[i]) == i:\n",
        "            answer += s[i]\n",
        "\n",
        "    return answer\n",
        "\n",
        "print(solution(\"ksekkset\"))\n",
        "print(solution(\"sssssttessskssee\"))\n",
        "print(solution(\"itistime\"))"
      ],
      "metadata": {
        "colab": {
          "base_uri": "https://localhost:8080/"
        },
        "id": "LM-Xb2iv50jn",
        "outputId": "10c66a33-b289-49b2-ee77-4e111756296a"
      },
      "execution_count": null,
      "outputs": [
        {
          "output_type": "stream",
          "name": "stdout",
          "text": [
            "kset\n",
            "stek\n",
            "itsme\n"
          ]
        }
      ]
    },
    {
      "cell_type": "code",
      "source": [
        "#3번 : 공통문자열\n",
        "\n",
        "\"\"\"\n",
        "N개의 문자열이 주어지면 이 문자열들의 최대 공통 접두사를 출력하는 프로그램을 작성하세\n",
        "요. 만약 문자열들이 [“long\", \"longtime\", \"longest\"] 라면 세 단어의 최대 공통 접두사는 \n",
        "”long\"입니다.\n",
        "매개변수 s에 N개의 문자열이 주어지면 각 문자열들의 최대 공통 접두사를 반환하는 프로그램\n",
        "을 작성하세요. 공통 접두사는 반드시 존재합니다.\n",
        "\n",
        "\"\"\""
      ],
      "metadata": {
        "id": "_2G7IvPo6V3B"
      },
      "execution_count": null,
      "outputs": []
    },
    {
      "cell_type": "code",
      "source": [
        "def solution(s):\n",
        "    answer = \"\"\n",
        "    for i in range(len(s[0])):\n",
        "        common = set()\n",
        "        for x in s:\n",
        "            common.add(x[i])\n",
        "        if len(common) == 1:\n",
        "            answer += s[0][i]\n",
        "        else:\n",
        "            break\n",
        "    return answer\n",
        "\n",
        "print(solution([\"tesk\", \"tesking\", \"tesming\"]))\n",
        "print(solution([\"lengi\", \"lengi\", \"lenti\"]))\n",
        "print(solution([\"long\", \"longtime\", \"longest\"]))"
      ],
      "metadata": {
        "colab": {
          "base_uri": "https://localhost:8080/"
        },
        "id": "jWwDH9pj6k5A",
        "outputId": "7e970d83-63f0-4142-deda-e7944d883754"
      },
      "execution_count": null,
      "outputs": [
        {
          "output_type": "stream",
          "name": "stdout",
          "text": [
            "tes\n",
            "len\n",
            "long\n"
          ]
        }
      ]
    },
    {
      "cell_type": "code",
      "source": [
        "def solution(s):\n",
        "    answer = \"\"\n",
        "    for i in range(len(s[0])):\n",
        "        common = set()\n",
        "        for x in s:\n",
        "            common.add(x[i])\n",
        "        if len(common) == 1:\n",
        "            answer += s[0][i]\n",
        "        else:\n",
        "            break\n",
        "\n",
        "    return answer\n",
        "\n",
        "print(solution([\"tesk\", \"tesking\", \"tesming\"]))\n",
        "print(solution([\"lengi\", \"lengi\", \"lenti\"]))\n",
        "print(solution([\"long\", \"longtime\", \"longest\"]))"
      ],
      "metadata": {
        "colab": {
          "base_uri": "https://localhost:8080/"
        },
        "id": "U7rDPS-o8bvv",
        "outputId": "4eb2c6a6-357a-4354-8cc8-88c58d23ff69"
      },
      "execution_count": null,
      "outputs": [
        {
          "output_type": "stream",
          "name": "stdout",
          "text": [
            "tes\n",
            "len\n",
            "long\n"
          ]
        }
      ]
    },
    {
      "cell_type": "code",
      "source": [
        "#4번 : 회문 문자열\n",
        "\n",
        "\"\"\"\n",
        "앞에서 읽을 때나 뒤에서 읽을 때나 같은 문자열을 회문 문자열이라고 합니다.\n",
        "매개변수 s에 문자열이 입력되면 해당 문자열이 회문 문자열이면 \"YES\", 회문 문자열이 아니\n",
        "면 “NO\"를 출력하는 프로그램을 작성하세요.\n",
        "단 회문을 검사할 때 대소문자를 구분하지 않습니다.\n",
        "\n",
        "print(solution(\"steets\"))\n",
        "print(solution(\"Moon\"))\n",
        "print(solution(\"gooG\"))\n",
        "\"\"\""
      ],
      "metadata": {
        "id": "n-BvRQ5O8vEQ"
      },
      "execution_count": null,
      "outputs": []
    },
    {
      "cell_type": "code",
      "source": [
        "def solution(s):\n",
        "    answer = \"YES\"\n",
        "    s = s.upper()\n",
        "    left = 0\n",
        "    right = len(s) -1\n",
        "    while right > left:\n",
        "        if s[left] != s[right]:\n",
        "            return \"NO\"\n",
        "        else:\n",
        "            left += 1\n",
        "            right -= 1\n",
        "\n",
        "    return answer\n",
        "\n",
        "print(solution(\"steets\"))\n",
        "print(solution(\"Moon\"))\n",
        "print(solution(\"gooG\"))"
      ],
      "metadata": {
        "colab": {
          "base_uri": "https://localhost:8080/"
        },
        "id": "2lqJq3qq9Zjb",
        "outputId": "5e7a17dc-7bb0-4ef6-99bf-39e518b695f3"
      },
      "execution_count": null,
      "outputs": [
        {
          "output_type": "stream",
          "name": "stdout",
          "text": [
            "YES\n",
            "NO\n",
            "YES\n"
          ]
        }
      ]
    },
    {
      "cell_type": "code",
      "source": [
        "# 5번 : 보이는 학생\n",
        "\n",
        "\"\"\"\n",
        "\n",
        "선생님이 반 학생을 일렬로 세웠습니다. 일렬로 서 있는 학생의 키가 앞에서부터 순서대로 주\n",
        "어질 때, 맨 앞에 서 있는 선생님이 볼 수 있는 학생수가 몇 명인지 알고싶습니다. (앞에 서 \n",
        "있는 사람들보다 크면 보이고, 작거나 같으면 보이지 않습니다.)\n",
        "매개변수 nums에 일렬로 선 학생의 키가 앞학생부터 차례대로 주어지면 선생님이 볼 수 있는 \n",
        "학생수를 반환하는 프로그램을 작성하세요.\n",
        "\n",
        "입출력 예:\n",
        "\n",
        "nums                                           result\n",
        "[130, 135, 148, 140, 145, 150, 150, 153]         5\n",
        "[1, 2, 3, 4, 5]                                  5\n",
        "[5, 4, 3, 2, 1]                                  1\n",
        "[7, 7, 7, 7, 7, 7, 7]                            1\n",
        "[7, 7, 7, 9, 9, 9, 12]                           3\n",
        "\n",
        "\n",
        "제한사항:\n",
        "• nums 길이는 100,000을 넘지 않습니다.\n",
        "• nums의 원소값은 1이상 1000이하입니다.\n",
        "\n",
        "\"\"\"\n"
      ],
      "metadata": {
        "id": "hbK3GyklQNqk"
      },
      "execution_count": null,
      "outputs": []
    },
    {
      "cell_type": "code",
      "source": [
        "def solution(nums):\n",
        "    answer = 1\n",
        "    maxH = nums[0]\n",
        "    for i in range(1, len(nums)):\n",
        "        if nums[i] > maxH:\n",
        "            maxH = nums[i]\n",
        "            answer += 1\n",
        "\n",
        "    return answer \n",
        "\n",
        "print(solution([130, 135, 148, 140, 145, 150, 150, 153]))\n",
        "print(solution([1, 2, 3, 4, 5]))\n",
        "print(solution([5, 4, 3, 2, 1]))\n",
        "print(solution([7, 7, 7, 7, 7, 7, 7]))\n",
        "print(solution([7, 7, 7, 9, 9, 9, 12]))"
      ],
      "metadata": {
        "colab": {
          "base_uri": "https://localhost:8080/"
        },
        "id": "Dc9UJudsQYjP",
        "outputId": "9930a4a7-fcba-437c-aa49-d5154d356305"
      },
      "execution_count": null,
      "outputs": [
        {
          "output_type": "stream",
          "name": "stdout",
          "text": [
            "5\n",
            "5\n",
            "1\n",
            "1\n",
            "3\n"
          ]
        }
      ]
    },
    {
      "cell_type": "code",
      "source": [
        "def solution(nums):\n",
        "    answer = 1\n",
        "    maxH = nums[0]\n",
        "    for i in range(1, len(nums)):\n",
        "        if nums[i] > maxH:\n",
        "            maxH = nums[i]\n",
        "            answer += 1\n",
        "\n",
        "    return answer\n",
        "\n",
        "print(solution([130, 135, 148, 140, 145, 150, 150, 153]))\n",
        "print(solution([1, 2, 3, 4, 5]))\n",
        "print(solution([5, 4, 3, 2, 1]))\n",
        "print(solution([7, 7, 7, 7, 7, 7, 7]))\n",
        "print(solution([7, 7, 7, 9, 9, 9, 12]))"
      ],
      "metadata": {
        "colab": {
          "base_uri": "https://localhost:8080/"
        },
        "id": "xEZYLR8TUGL3",
        "outputId": "c41903d3-a57c-41ef-dd37-7c0170153f2c"
      },
      "execution_count": null,
      "outputs": [
        {
          "output_type": "stream",
          "name": "stdout",
          "text": [
            "5\n",
            "5\n",
            "1\n",
            "1\n",
            "3\n"
          ]
        }
      ]
    },
    {
      "cell_type": "code",
      "source": [
        "#6번 : 점수계산 - 정부 올림피아드 기출 초등부 1번\n",
        "\n",
        "\n",
        "\"\"\"\n",
        "\n",
        "OX 문제는 맞거나 틀린 두 경우의 답을 가지는 문제를 말한다. 여러 개의 OX 문제로 만들어진 \n",
        "시험에서 연속적으로 답을 맞히는 경우에는 가산점을 주기 위해서 다음과 같이 점수 계산을 하기\n",
        "로 하였다. 1번 문제가 맞는 경우에는 1점으로 계산한다. 앞의 문제에 대해서는 답을 틀리다가 \n",
        "답이 맞는 처음 문제는 1점으로 계산한다. 또한, 연속으로 문제의 답이 맞는 경우에서 두 번째 \n",
        "문제는 2점, 세 번째 문제는 3점, ..., K번째 문제는 K점으로 계산한다. 틀린 문제는 0점으로 계\n",
        "산한다.\n",
        "예를 들어, 아래와 같이 10 개의 OX 문제에서 답이 맞은 문제의 경우에는 1로 표시하고, 틀린 경\n",
        "우에는 0으로 표시하였을 때, 점수 계산은 아래 표와 같이 계산되어, 총 점수는 \n",
        "1+1+2+3+1+2=10 점이다.\n",
        "\n",
        "\n",
        "입출력 예:\n",
        "\n",
        "nums result\n",
        "[1, 0, 1, 1, 1, 0, 0, 1, 1, 0]          10\n",
        "[1, 1, 1, 1, 1, 0, 1]                   16\n",
        "[0, 1, 0, 1, 0, 1, 1, 1]                8\n",
        "[0, 0, 0, 0, 0]                         0\n",
        "[1, 0, 0, 0, 1]                         2\n",
        "\n",
        "\n",
        "제한사항:\n",
        "• nums 길이는 100,000을 넘지 않습니다.\n",
        "\n",
        "\"\"\""
      ],
      "metadata": {
        "id": "oWRFUDbzUGHk"
      },
      "execution_count": null,
      "outputs": []
    },
    {
      "cell_type": "code",
      "source": [
        "def solution(nums):\n",
        "    answer = 0\n",
        "    score = 0\n",
        "    for x in nums:\n",
        "        if x == 1:\n",
        "            score += 1\n",
        "            answer += score\n",
        "        else:\n",
        "            sceor = 0\n",
        "    return answer\n",
        "\n",
        "print(solution([1, 0, 1, 1, 1, 0, 0, 1, 1, 0]))\n",
        "print(solution([1, 1, 1, 1, 1, 0, 1]))\n",
        "print(solution([0, 1, 0, 1, 0, 1, 1, 1]))\n",
        "print(solution([0, 0, 0, 0, 0]))\n",
        "print(solution([1, 0, 0, 0, 1])) "
      ],
      "metadata": {
        "colab": {
          "base_uri": "https://localhost:8080/"
        },
        "id": "kyM0YFRGUGFH",
        "outputId": "f8c41dc5-e099-4b6b-cc96-01129543cc4a"
      },
      "execution_count": null,
      "outputs": [
        {
          "output_type": "stream",
          "name": "stdout",
          "text": [
            "21\n",
            "21\n",
            "15\n",
            "0\n",
            "3\n"
          ]
        }
      ]
    },
    {
      "cell_type": "code",
      "source": [
        "#7번 : 가장 높은 증가수열\n",
        "\n",
        "\"\"\"\n",
        "\n",
        "가장 높은 증가수열\n",
        "수열이 주어지면 이 수열에서 연속된 부분 증가수열을 찾습니다. 각 부분증가수열은 높이가 \n",
        "있습니다. 증가수열의 높이란 증가수열의 첫항과 마지막항의 차를 의미합니다.\n",
        "매개변수 nums에 수열이 주어지면 여러 증가수열 중 가장 높은 부분증가수열을 찾아 그 높이\n",
        "를 반환하는 프로그램을 작성하세요.\n",
        "만약 수열이 [5, 2, 4, 7, 7, 3, 9, 10, 11]이 주어지면 가장 높은 부분증가수열은 [3, 9, 10, \n",
        "11]이고, 높이는 8입니다. \n",
        "주의 : 이웃하는 두 수가 같을 경우 증가수열로 보지 않습니다.\n",
        "입출력 예:\n",
        "[8, 12, 2, 3, 7, 6, 12, 20, 3]       14\n",
        "[5, 2, 4, 7, 7, 3, 9, 10, 11]         8\n",
        "\n",
        "\n",
        "제한사항:\n",
        "• nums의 길이 3<= n <=100,000\n",
        "• 배열 nums의 원소는 자연수입니다.\n",
        "입력예제 2 설명 : \n",
        "가장 높은 부분증가수열은 [6, 20]입니다.\n",
        "\n",
        "\"\"\""
      ],
      "metadata": {
        "id": "FOydQbBLUGAI"
      },
      "execution_count": null,
      "outputs": []
    },
    {
      "cell_type": "code",
      "source": [
        "def solution(nums):\n",
        "    answer = 0\n",
        "    maxH = 0\n",
        "    for i in range(len(nums)-1):\n",
        "        if nums[i] < nums[i+1]:\n",
        "            maxH += (nums[i+1] - nums[i])\n",
        "        else:\n",
        "            answer = max(answer, maxH)\n",
        "            maxH = 0\n",
        "    answer = max(answer, maxH)\n",
        "    return answer\n",
        "\n",
        "print(solution([8, 12, 2, 3, 7, 6, 12, 20, 3]))\n",
        "print(solution([5, 2, 4, 7, 7, 3, 9, 10, 11]))"
      ],
      "metadata": {
        "colab": {
          "base_uri": "https://localhost:8080/"
        },
        "id": "-4pZ8H-dlstI",
        "outputId": "e0f06102-073c-42e1-c7bc-25c5f077ec3f"
      },
      "execution_count": 2,
      "outputs": [
        {
          "output_type": "stream",
          "name": "stdout",
          "text": [
            "14\n",
            "8\n"
          ]
        }
      ]
    },
    {
      "cell_type": "code",
      "source": [
        "def solution(nums):\n",
        "    answer = 0\n",
        "    maxH = 0\n",
        "    for i in range(len(nums)-1):\n",
        "        if nums[i] < nums[i+1]:\n",
        "            maxH += (nums[i+1] - nums[i])\n",
        "        else:\n",
        "            answer = max(answer, maxH)\n",
        "            maxH = 0\n",
        "    answer = max(answer, maxH)\n",
        "    return answer\n",
        "\n",
        "print(solution([8, 12, 2, 3, 7, 6, 12, 20, 3]))\n",
        "print(solution([5, 2, 4, 7, 7, 3, 9, 10, 11]))"
      ],
      "metadata": {
        "colab": {
          "base_uri": "https://localhost:8080/"
        },
        "id": "RP3xqUZilsql",
        "outputId": "f2de0918-4840-490e-d4c1-ecc880c953bd"
      },
      "execution_count": 3,
      "outputs": [
        {
          "output_type": "stream",
          "name": "stdout",
          "text": [
            "14\n",
            "8\n"
          ]
        }
      ]
    },
    {
      "cell_type": "code",
      "source": [
        "#8번 : 학급 회장\n",
        "\n",
        "\"\"\"\n",
        "\n",
        "\n",
        "학급 회장을 뽑는데 후보로 기호 A, B, C, D, E 후보가 등록을 했습니다.\n",
        "투표용지에는 반 학생들이 자기가 선택한 후보의 기호(알파벳)가 쓰여져 있으며 선생님은 그 \n",
        "기호를 발표하고 있습니다.\n",
        "매개변수 s에 투표용지에 쓰여져 있던 각 후보의 기호가 선생님이 발표한 순서대로 문자열로 \n",
        "주어지면 어떤 기호의 후보가 학급 회장이 되었는지 반환하는 프로그램을 작성하세요.\n",
        "반드시 한 명의 학급회장이 선출되도록 투표결과가 나왔다고 가정합니다.\n",
        "입출력 예:\n",
        "\n",
        "\"BACBACCACCBDEDE\"               C\n",
        "\"AAAAABBCCDDDD\"                 A\n",
        "\n",
        "제한사항:\n",
        "• 문자열 s의 길이는 100을 넘지 않습니다.\n",
        "입력예제 1 설명 : \n",
        "A기호 3표, B기호 3표, C기호 5표, D기호 2표, E기호 2표 를 받아 C가 학급회장이 되었습니다\n",
        "\n",
        "\"\"\""
      ],
      "metadata": {
        "id": "fV2JVzdPlsnw"
      },
      "execution_count": null,
      "outputs": []
    },
    {
      "cell_type": "code",
      "source": [
        "import collections\n",
        "def solution(s):\n",
        "    answer = \"\"\n",
        "    sH = collections.Counter(s)\n",
        "    maxC = 0\n",
        "    for key, val in sH.items():\n",
        "        if val > maxC:\n",
        "            maxC = val\n",
        "            answer = key\n",
        "    return answer\n",
        "\n",
        "print(solution(\"BACBACCACCBDEDE\"))\n",
        "print(solution(\"AAAAABBCCDDDD\"))"
      ],
      "metadata": {
        "id": "ovBXSGjDlseI"
      },
      "execution_count": null,
      "outputs": []
    },
    {
      "cell_type": "code",
      "source": [
        "import collections\n",
        "def solution(s):\n",
        "    answer = \"\"\n",
        "    sH = collections.Counter(s)\n",
        "    maxC = 0\n",
        "    for key, val in sH.items():\n",
        "        if val > maxC:\n",
        "            maxC = val\n",
        "            answer = key\n",
        "    return answer\n",
        "\n",
        "print(solution(\"BACBACCACCBDEDE\"))\n",
        "print(solution(\"AAAAABBCCDDDD\"))"
      ],
      "metadata": {
        "id": "P2rNgviqly3q"
      },
      "execution_count": null,
      "outputs": []
    },
    {
      "cell_type": "code",
      "source": [
        "import collections\n",
        "def solution(s):\n",
        "    answer = \"\"\n",
        "    sH = collections.Counter(s)\n",
        "    maxC = 0\n",
        "    for key, val in sH.items():\n",
        "        if val > maxC:\n",
        "            maxC = val\n",
        "            answer = key\n",
        "    return answer\n",
        "\n",
        "print(solution(\"BACBACCACCBDEDE\"))\n",
        "print(solution(\"AAAAABBCCDDDD\"))"
      ],
      "metadata": {
        "id": "-SlMNYbQly1U"
      },
      "execution_count": null,
      "outputs": []
    },
    {
      "cell_type": "code",
      "source": [
        "import collections\n",
        "def solution(s):\n",
        "    answer = \"\"\n",
        "    sH = collections.Counter(s)\n",
        "    maxC = 0\n",
        "    for key, val in sH.items():\n",
        "        if val > maxC:\n",
        "            maxC = val\n",
        "            answer = key\n",
        "    return answer\n",
        "\n",
        "print(solution(\"BACBACCACCBDEDE\"))\n",
        "print(solution(\"AAAAABBCCDDDD\"))"
      ],
      "metadata": {
        "id": "eMpZS3OrlyzD"
      },
      "execution_count": null,
      "outputs": []
    },
    {
      "cell_type": "code",
      "source": [
        "#9번 : 한번 사용한 최초 문자\n",
        "\n",
        "\n",
        "\"\"\"\n",
        "문자열에서 한번만 사용한 문자를 찾으려고 합니다.\n",
        "한번만 사용한 문자 중 문자열에서 가장 먼저 나타난 문자의 인덱스 번호를 반환하는 프로그\n",
        "램을 작성하세요. 인덱스는 1부터 시작합니다. 한번만 사용한 문자가 없을 경우 -1를 반환하\n",
        "세요.\n",
        "입출력 예:\n",
        "\"statitsics\"         3\n",
        "\"aabb\"               -1\n",
        "\"stringshowtime\"     3\n",
        "\n",
        "\n",
        "제한사항:\n",
        "• 문자열 s의 길이는 100을 넘지 않습니다.\n",
        "• 문자열은 소문자로만 이루어져 있습니다.\n",
        "입력예제 1 설명 : \n",
        "한번만 사용한 문자는 a, c이고, 문자열에서 먼저 나타난 것은 a이고 인덱스는 3입니다.\n",
        "\"\"\""
      ],
      "metadata": {
        "id": "YV8M2omjlywl"
      },
      "execution_count": null,
      "outputs": []
    },
    {
      "cell_type": "code",
      "source": [
        "import collections\n",
        "def solution(s):\n",
        "    answer = -1\n",
        "    sH = collections.Counter(s)\n",
        "    for i in range(len(s)):\n",
        "        if sH[s[i]] == 1:\n",
        "            return i+1\n",
        "\n",
        "    return answer\n",
        "\n",
        "print(solution(\"statitsics\"))\n",
        "print(solution(\"aabb\"))\n",
        "print(solution(\"stringshowtime\"))"
      ],
      "metadata": {
        "colab": {
          "base_uri": "https://localhost:8080/"
        },
        "id": "2W_zPcg3lyuB",
        "outputId": "96bd2fb5-6475-4687-9b9a-e1dd1086fa62"
      },
      "execution_count": 4,
      "outputs": [
        {
          "output_type": "stream",
          "name": "stdout",
          "text": [
            "3\n",
            "-1\n",
            "3\n"
          ]
        }
      ]
    },
    {
      "cell_type": "code",
      "source": [
        "import collections\n",
        "def solution(s):\n",
        "    answer = -1\n",
        "    sH = collections.Counter(s)\n",
        "    for i in range(len(s)):\n",
        "        if sH[s[i]] == 1:\n",
        "            return i+1\n",
        "\n",
        "    return answer\n",
        "\n",
        "print(solution(\"statitsics\"))\n",
        "print(solution(\"aabb\"))\n",
        "print(solution(\"stringshowtime\"))"
      ],
      "metadata": {
        "colab": {
          "base_uri": "https://localhost:8080/"
        },
        "id": "DWfsWmb4lyrh",
        "outputId": "560bce76-71ed-4520-cd5a-521a77f6f587"
      },
      "execution_count": 5,
      "outputs": [
        {
          "output_type": "stream",
          "name": "stdout",
          "text": [
            "3\n",
            "-1\n",
            "3\n"
          ]
        }
      ]
    },
    {
      "cell_type": "code",
      "source": [
        "#10번 : 빈도수가 1인 가장 큰 숫자\n",
        "\n",
        "\"\"\"\n",
        "\n",
        "빈도수가 1인 가장 큰 숫자\n",
        "수열의 원소 중 빈도수가 1인 가장 큰 숫자를 찾으려고 합니다.\n",
        "매개변수 nums에 수열이 주어지면 빈도수가 1인 숫자 중 가장 큰 숫자를 찾아 반환하는 프로\n",
        "그램을 작성하세요. 빈도수가 1인 숫자가 없으면 -1를 반환합니다.\n",
        "입출력 예:\n",
        "[1, 1, 2, 2, 3, 4, 5, 7, 7]                 5\n",
        "[3, 8, 3, 3, 5, 1, 1, 1, 7, 2, 2]           8\n",
        "[1, 2, 5, 4, 3, 2, 3, 1, 4, 5]             -1\n",
        "\n",
        "\n",
        "제한사항:\n",
        "• nums의 길이 3<= n <=100,000\n",
        "• nums의 원소는 1,000을 넘지 않는 자연수입니다.\n",
        "\n",
        "\n",
        "\"\"\""
      ],
      "metadata": {
        "id": "LWooVgAKlypE"
      },
      "execution_count": null,
      "outputs": []
    },
    {
      "cell_type": "code",
      "source": [
        "import collections\n",
        "def solution(nums):\n",
        "    nH = collections.Counter(nums)\n",
        "    big = max(nums)\n",
        "    answer = -1\n",
        "    for i in range(big, 0, -1):\n",
        "        if nH[i] == 1:\n",
        "            return i\n",
        "\n",
        "\n",
        "    return answer\n",
        "\n",
        "print(solution([1, 1, 2, 2, 3, 4, 5, 7, 7]))\n",
        "print(solution([3, 8, 3, 3, 5, 1, 1, 7, 2, 2]))\n",
        "print(solution([1, 2, 5, 4, 3, 2, 3, 1, 4, 5]))"
      ],
      "metadata": {
        "colab": {
          "base_uri": "https://localhost:8080/"
        },
        "id": "ZOudOuG2mBDl",
        "outputId": "6c0fb509-d73c-429e-a806-8e78d9986f24"
      },
      "execution_count": 6,
      "outputs": [
        {
          "output_type": "stream",
          "name": "stdout",
          "text": [
            "5\n",
            "8\n",
            "-1\n"
          ]
        }
      ]
    },
    {
      "cell_type": "code",
      "source": [
        "import collections\n",
        "def solution(nums):\n",
        "    nH = collections.Counter(nums)\n",
        "    big = max(nums)\n",
        "    answer = -1\n",
        "    for i in range(big, 0, -1):\n",
        "        if nH[i] == 1:\n",
        "            return i\n",
        "\n",
        "\n",
        "    return answer\n",
        "\n",
        "print(solution([1, 1, 2, 2, 3, 4, 5, 7, 7]))\n",
        "print(solution([3, 8, 3, 3, 5, 1, 1, 7, 2, 2]))\n",
        "print(solution([1, 2, 5, 4, 3, 2, 3, 1, 4, 5]))"
      ],
      "metadata": {
        "colab": {
          "base_uri": "https://localhost:8080/"
        },
        "id": "dk3y6tO4mAyI",
        "outputId": "38921a57-efd4-4b9a-e50f-3e18e2f660b2"
      },
      "execution_count": 7,
      "outputs": [
        {
          "output_type": "stream",
          "name": "stdout",
          "text": [
            "5\n",
            "8\n",
            "-1\n"
          ]
        }
      ]
    },
    {
      "cell_type": "code",
      "source": [
        "\"\"\"\n",
        "1~7번까지 마스터\n",
        "\n",
        "8~10번까지 좀 더 해보자\n",
        "\"\"\"\n"
      ],
      "metadata": {
        "id": "YycJvoPpmCV-"
      },
      "execution_count": null,
      "outputs": []
    }
  ]
}