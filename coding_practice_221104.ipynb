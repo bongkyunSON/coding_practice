{
  "nbformat": 4,
  "nbformat_minor": 0,
  "metadata": {
    "colab": {
      "provenance": [],
      "authorship_tag": "ABX9TyOaP55kj+Jd6cH8AG8T04GO",
      "include_colab_link": true
    },
    "kernelspec": {
      "name": "python3",
      "display_name": "Python 3"
    },
    "language_info": {
      "name": "python"
    }
  },
  "cells": [
    {
      "cell_type": "markdown",
      "metadata": {
        "id": "view-in-github",
        "colab_type": "text"
      },
      "source": [
        "<a href=\"https://colab.research.google.com/github/bongkyunSON/coding_practice/blob/main/coding_practice_221104.ipynb\" target=\"_parent\"><img src=\"https://colab.research.google.com/assets/colab-badge.svg\" alt=\"Open In Colab\"/></a>"
      ]
    },
    {
      "cell_type": "code",
      "execution_count": 1,
      "metadata": {
        "colab": {
          "base_uri": "https://localhost:8080/",
          "height": 90
        },
        "id": "9Dx-w3HS3DdZ",
        "outputId": "658bafd5-e9d7-48d5-ac2a-d00af0c2fccd"
      },
      "outputs": [
        {
          "output_type": "execute_result",
          "data": {
            "text/plain": [
              "'\\n문제\\n대소문자 변환\\n대문자와 소문자가 같이 존재하는 문자열을 입력받아 대문자는 소문자로 소문자는 대문자로 \\n변환하려고 합니다.\\n매개변수 s에 대소문자가 존재하는 문자열이 입력되면 문자열 s의 대문자는 소문자로, 소문자\\n는 대문자로 변환하여 반환하는 프로그램을 작성하세요.\\n\\n\\n입출력 예:\\n제한사항:\\n• 문자열 s의 길이는 100을 넘지 않습니다.\\n\\n\"StuDY\" “sTUdy\"\\n\"TeachER\" \"tEACHer\"\\n\"Good\" \"gOOD\"\\n\\n'"
            ],
            "application/vnd.google.colaboratory.intrinsic+json": {
              "type": "string"
            }
          },
          "metadata": {},
          "execution_count": 1
        }
      ],
      "source": [
        "#1번 : 대소문자변환\n",
        "\n",
        "\"\"\"\n",
        "문제\n",
        "대소문자 변환\n",
        "대문자와 소문자가 같이 존재하는 문자열을 입력받아 대문자는 소문자로 소문자는 대문자로 \n",
        "변환하려고 합니다.\n",
        "매개변수 s에 대소문자가 존재하는 문자열이 입력되면 문자열 s의 대문자는 소문자로, 소문자\n",
        "는 대문자로 변환하여 반환하는 프로그램을 작성하세요.\n",
        "\n",
        "\n",
        "입출력 예:\n",
        "제한사항:\n",
        "• 문자열 s의 길이는 100을 넘지 않습니다.\n",
        "\n",
        "\"StuDY\" “sTUdy\"\n",
        "\"TeachER\" \"tEACHer\"\n",
        "\"Good\" \"gOOD\"\n",
        "\n",
        "\"\"\""
      ]
    },
    {
      "cell_type": "code",
      "source": [
        "def solution(s):\n",
        "    answer = \"\"\n",
        "    for i in s:\n",
        "        if i.isupper():\n",
        "            answer += i.lower()\n",
        "\n",
        "        else:\n",
        "            answer += i.upper()\n",
        "\n",
        "    return answer\n",
        "\n",
        "print(solution(\"StuDY\"))\n",
        "print(solution(\"TeachER\"))\n",
        "print(solution(\"Good\"))"
      ],
      "metadata": {
        "colab": {
          "base_uri": "https://localhost:8080/"
        },
        "id": "7dWWGv833Gq-",
        "outputId": "af9bffd8-61a3-48f4-903c-9382ab20877b"
      },
      "execution_count": 2,
      "outputs": [
        {
          "output_type": "stream",
          "name": "stdout",
          "text": [
            "sTUdy\n",
            "tEACHer\n",
            "gOOD\n"
          ]
        }
      ]
    },
    {
      "cell_type": "code",
      "source": [
        "\"\"\"\n",
        "중복문자제거\n",
        "소문자로 된 한개의 문자열이 입력되면 중복된 문자를 제거하려고 합니다.\n",
        "매개변수 s에 문자열이 입력되면 중복된 문자는 제거하고 모든 문자는 오직 하나만 있게 하여 \n",
        "반환하는 프로그램을 작성하세요.\n",
        "제거된 문자열의 각 문자는 원래 문자열의 순서를 유지합니다.\n",
        "입출력 예:\n",
        "\n",
        "\n",
        "    s                            result\n",
        "\"ksekkset\"                      \"kset\"\n",
        "\"sssssttessskssee\"              \"stek\"\n",
        "\"itistime\"                      \"itsm\n",
        "\n",
        "\n",
        "제한사항:\n",
        "• 문자열의 길이는 100을 넘지 않습니다.\n",
        "\n",
        "\"\"\""
      ],
      "metadata": {
        "id": "N_vV3J0p5P8r"
      },
      "execution_count": null,
      "outputs": []
    },
    {
      "cell_type": "code",
      "source": [
        "def solution(s):\n",
        "    answer = \"\"\n",
        "    for i in range(len(s)):\n",
        "        if s.find(s[i]) == i:\n",
        "            answer += s[i]\n",
        "\n",
        "\n",
        "    return answer\n",
        "\n",
        "print(solution(\"ksekkset\"))\n",
        "print(solution(\"sssssttessskssee\"))\n",
        "print(solution(\"itistime\"))"
      ],
      "metadata": {
        "colab": {
          "base_uri": "https://localhost:8080/"
        },
        "id": "4APbReeA5W5v",
        "outputId": "50d6119b-3df8-43a4-9d53-83d735874658"
      },
      "execution_count": 5,
      "outputs": [
        {
          "output_type": "stream",
          "name": "stdout",
          "text": [
            "kset\n",
            "stek\n",
            "itsme\n"
          ]
        }
      ]
    },
    {
      "cell_type": "code",
      "source": [
        "def solution(s):\n",
        "    answer = \"\"\n",
        "    for i in range(len(s)):\n",
        "        if s.find(s[i]) == i:\n",
        "            answer += s[i]\n",
        "\n",
        "    return answer\n",
        "\n",
        "print(solution(\"ksekkset\"))\n",
        "print(solution(\"sssssttessskssee\"))\n",
        "print(solution(\"itistime\"))"
      ],
      "metadata": {
        "colab": {
          "base_uri": "https://localhost:8080/"
        },
        "id": "LM-Xb2iv50jn",
        "outputId": "10c66a33-b289-49b2-ee77-4e111756296a"
      },
      "execution_count": 6,
      "outputs": [
        {
          "output_type": "stream",
          "name": "stdout",
          "text": [
            "kset\n",
            "stek\n",
            "itsme\n"
          ]
        }
      ]
    },
    {
      "cell_type": "code",
      "source": [
        "#3번 : 공통문자열\n",
        "\n",
        "\"\"\"\n",
        "N개의 문자열이 주어지면 이 문자열들의 최대 공통 접두사를 출력하는 프로그램을 작성하세\n",
        "요. 만약 문자열들이 [“long\", \"longtime\", \"longest\"] 라면 세 단어의 최대 공통 접두사는 \n",
        "”long\"입니다.\n",
        "매개변수 s에 N개의 문자열이 주어지면 각 문자열들의 최대 공통 접두사를 반환하는 프로그램\n",
        "을 작성하세요. 공통 접두사는 반드시 존재합니다.\n",
        "\n",
        "\"\"\""
      ],
      "metadata": {
        "id": "_2G7IvPo6V3B"
      },
      "execution_count": 6,
      "outputs": []
    },
    {
      "cell_type": "code",
      "source": [
        "def solution(s):\n",
        "    answer = \"\"\n",
        "    for i in range(len(s[0])):\n",
        "        common = set()\n",
        "        for x in s:\n",
        "            common.add(x[i])\n",
        "        if len(common) == 1:\n",
        "            answer += s[0][i]\n",
        "        else:\n",
        "            break\n",
        "\n",
        "    return answer\n",
        "\n",
        "print(solution([\"tesk\", \"tesking\", \"tesming\"]))\n",
        "print(solution([\"lengi\", \"lengi\", \"lenti\"]))\n",
        "print(solution([\"long\", \"longtime\", \"longest\"]))"
      ],
      "metadata": {
        "colab": {
          "base_uri": "https://localhost:8080/"
        },
        "id": "jWwDH9pj6k5A",
        "outputId": "b4b67303-7bbd-44e9-8c50-48297fe0309c"
      },
      "execution_count": 7,
      "outputs": [
        {
          "output_type": "stream",
          "name": "stdout",
          "text": [
            "tes\n",
            "len\n",
            "long\n"
          ]
        }
      ]
    },
    {
      "cell_type": "code",
      "source": [
        "def solution(s):\n",
        "    answer = \"\"\n",
        "    for i in range(len(s[0])):\n",
        "        common = set()\n",
        "        for x in s:\n",
        "            common.add(x[i])\n",
        "        if len(common) == 1:\n",
        "            answer += s[0][i]\n",
        "        else:\n",
        "            break\n",
        "\n",
        "    return answer\n",
        "\n",
        "print(solution([\"tesk\", \"tesking\", \"tesming\"]))\n",
        "print(solution([\"lengi\", \"lengi\", \"lenti\"]))\n",
        "print(solution([\"long\", \"longtime\", \"longest\"]))"
      ],
      "metadata": {
        "colab": {
          "base_uri": "https://localhost:8080/"
        },
        "id": "U7rDPS-o8bvv",
        "outputId": "4eb2c6a6-357a-4354-8cc8-88c58d23ff69"
      },
      "execution_count": 12,
      "outputs": [
        {
          "output_type": "stream",
          "name": "stdout",
          "text": [
            "tes\n",
            "len\n",
            "long\n"
          ]
        }
      ]
    },
    {
      "cell_type": "code",
      "source": [
        "#4번 : 회문 문자열\n",
        "\n",
        "\"\"\"\n",
        "앞에서 읽을 때나 뒤에서 읽을 때나 같은 문자열을 회문 문자열이라고 합니다.\n",
        "매개변수 s에 문자열이 입력되면 해당 문자열이 회문 문자열이면 \"YES\", 회문 문자열이 아니\n",
        "면 “NO\"를 출력하는 프로그램을 작성하세요.\n",
        "단 회문을 검사할 때 대소문자를 구분하지 않습니다.\n",
        "\n",
        "print(solution(\"steets\"))\n",
        "print(solution(\"Moon\"))\n",
        "print(solution(\"gooG\"))\n",
        "\"\"\""
      ],
      "metadata": {
        "id": "n-BvRQ5O8vEQ"
      },
      "execution_count": null,
      "outputs": []
    },
    {
      "cell_type": "code",
      "source": [
        "def solution(s):\n",
        "    answer = \"YES\"\n",
        "    s = s.upper()\n",
        "    left = 0\n",
        "    right = len(s) -1\n",
        "    while left < right:\n",
        "        if s[left] != s[right]:\n",
        "            return \"NO\"\n",
        "        else:\n",
        "            left += 1\n",
        "            right -= 1\n",
        "\n",
        "    return answer\n",
        "\n",
        "print(solution(\"steets\"))\n",
        "print(solution(\"Moon\"))\n",
        "print(solution(\"gooG\"))"
      ],
      "metadata": {
        "colab": {
          "base_uri": "https://localhost:8080/"
        },
        "id": "2lqJq3qq9Zjb",
        "outputId": "81d83af0-af16-42b5-80c2-161d4fc528d6"
      },
      "execution_count": 14,
      "outputs": [
        {
          "output_type": "stream",
          "name": "stdout",
          "text": [
            "YES\n",
            "NO\n",
            "YES\n"
          ]
        }
      ]
    },
    {
      "cell_type": "code",
      "source": [
        "\"\"\"\n",
        "2,3번은 조금만 더 생각하면서 해보기\n",
        "\n",
        "4번은 좀 많이 더 복습하기\n",
        "\n",
        "\n",
        "\n",
        "\"\"\""
      ],
      "metadata": {
        "id": "f_MZT4HmAArQ"
      },
      "execution_count": null,
      "outputs": []
    }
  ]
}