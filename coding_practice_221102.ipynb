{
  "nbformat": 4,
  "nbformat_minor": 0,
  "metadata": {
    "colab": {
      "provenance": [],
      "authorship_tag": "ABX9TyOCkesWYLvSB1mLsMAQ13fV",
      "include_colab_link": true
    },
    "kernelspec": {
      "name": "python3",
      "display_name": "Python 3"
    },
    "language_info": {
      "name": "python"
    }
  },
  "cells": [
    {
      "cell_type": "markdown",
      "metadata": {
        "id": "view-in-github",
        "colab_type": "text"
      },
      "source": [
        "<a href=\"https://colab.research.google.com/github/bongkyunSON/coding_practice/blob/main/coding_practice_221102.ipynb\" target=\"_parent\"><img src=\"https://colab.research.google.com/assets/colab-badge.svg\" alt=\"Open In Colab\"/></a>"
      ]
    },
    {
      "cell_type": "code",
      "execution_count": null,
      "metadata": {
        "id": "3QcexlTpEmfJ"
      },
      "outputs": [],
      "source": [
        "#1번 : 대소문자변환\n",
        "\n",
        "\"\"\"\n",
        "문제\n",
        "대소문자 변환\n",
        "대문자와 소문자가 같이 존재하는 문자열을 입력받아 대문자는 소문자로 소문자는 대문자로 \n",
        "변환하려고 합니다.\n",
        "매개변수 s에 대소문자가 존재하는 문자열이 입력되면 문자열 s의 대문자는 소문자로, 소문자\n",
        "는 대문자로 변환하여 반환하는 프로그램을 작성하세요.\n",
        "\n",
        "\n",
        "입출력 예:\n",
        "제한사항:\n",
        "• 문자열 s의 길이는 100을 넘지 않습니다.\n",
        "\n",
        "\"StuDY\" “sTUdy\"\n",
        "\"TeachER\" \"tEACHer\"\n",
        "\"Good\" \"gOOD\"\n",
        "\n",
        "\"\"\"\n",
        "\n"
      ]
    },
    {
      "cell_type": "code",
      "source": [
        "def solution(s):\n",
        "    answer = \"\"\n",
        "    for i in s:\n",
        "        if i.isupper():\n",
        "            answer += i.lower()\n",
        "        else:\n",
        "            answer += i.upper()\n",
        "\n",
        "    return answer\n",
        "\n",
        "\n",
        "print(solution(\"StuDY\"))\n",
        "print(solution(\"TeachER\"))\n",
        "print(solution(\"Good\"))"
      ],
      "metadata": {
        "colab": {
          "base_uri": "https://localhost:8080/"
        },
        "id": "Wbi6ZgAx308o",
        "outputId": "361065ac-f0d8-4322-9c0a-694107d6dfb3"
      },
      "execution_count": 1,
      "outputs": [
        {
          "output_type": "stream",
          "name": "stdout",
          "text": [
            "sTUdy\n",
            "tEACHer\n",
            "gOOD\n"
          ]
        }
      ]
    },
    {
      "cell_type": "code",
      "source": [
        "def solution(s):\n",
        "    answer = \"\"\n",
        "    for i in s:\n",
        "        if i.isupper():\n",
        "            answer += i.lower()\n",
        "        else:\n",
        "            answer += i.upper()\n",
        "\n",
        "    return answer\n",
        "\n",
        "print(solution(\"StuDY\"))\n",
        "print(solution(\"TeachER\"))\n",
        "print(solution(\"Good\"))"
      ],
      "metadata": {
        "colab": {
          "base_uri": "https://localhost:8080/"
        },
        "id": "EW3xX3Ta5IZ1",
        "outputId": "c73ca101-8ff8-4a8f-a330-5c0eec03b45b"
      },
      "execution_count": 2,
      "outputs": [
        {
          "output_type": "stream",
          "name": "stdout",
          "text": [
            "sTUdy\n",
            "tEACHer\n",
            "gOOD\n"
          ]
        }
      ]
    },
    {
      "cell_type": "code",
      "source": [
        "def solution(s):\n",
        "    answer = \"\"\n",
        "    for i in s:\n",
        "        if i.isupper():\n",
        "            answer += i.lower()\n",
        "        else: \n",
        "            answer += i.upper()\n",
        "\n",
        "    return answer\n",
        "\n",
        "print(solution(\"StuDY\"))\n",
        "print(solution(\"TeachER\"))\n",
        "print(solution(\"Good\"))"
      ],
      "metadata": {
        "colab": {
          "base_uri": "https://localhost:8080/"
        },
        "id": "f-w2G-oA5-eZ",
        "outputId": "58b1456c-609a-46a2-ef59-049aef154f64"
      },
      "execution_count": 3,
      "outputs": [
        {
          "output_type": "stream",
          "name": "stdout",
          "text": [
            "sTUdy\n",
            "tEACHer\n",
            "gOOD\n"
          ]
        }
      ]
    },
    {
      "cell_type": "code",
      "source": [
        "def solution(s):\n",
        "    answer = \"\"\n",
        "    for i in s:\n",
        "        if i.isupper():\n",
        "            answer += i.lower()\n",
        "        else:\n",
        "            answer += i.upper()\n",
        "\n",
        "    return answer\n",
        "\n",
        "print(solution(\"StuDY\"))\n",
        "print(solution(\"TeachER\"))\n",
        "print(solution(\"Good\"))"
      ],
      "metadata": {
        "id": "s66GGLvN6V5M"
      },
      "execution_count": null,
      "outputs": []
    },
    {
      "cell_type": "code",
      "source": [
        "def solution(s):\n",
        "    answer = \"\"\n",
        "    for i in s:\n",
        "        if i.isupper():\n",
        "            answer += i.lower()\n",
        "        else:\n",
        "            answer += i.upper()\n",
        "\n",
        "    return answer\n",
        "\n",
        "print(solution(\"StuDY\"))\n",
        "print(solution(\"TeachER\"))\n",
        "print(solution(\"Good\"))"
      ],
      "metadata": {
        "id": "ErjLqiaf63Pz"
      },
      "execution_count": null,
      "outputs": []
    },
    {
      "cell_type": "code",
      "source": [
        "#2번 : 중복문자제거\n",
        "\n",
        "\"\"\"\n",
        "중복문자제거\n",
        "소문자로 된 한개의 문자열이 입력되면 중복된 문자를 제거하려고 합니다.\n",
        "매개변수 s에 문자열이 입력되면 중복된 문자는 제거하고 모든 문자는 오직 하나만 있게 하여 \n",
        "반환하는 프로그램을 작성하세요.\n",
        "제거된 문자열의 각 문자는 원래 문자열의 순서를 유지합니다.\n",
        "입출력 예:\n",
        "\n",
        "\n",
        "    s                            result\n",
        "\"ksekkset\"                      \"kset\"\n",
        "\"sssssttessskssee\"              \"stek\"\n",
        "\"itistime\"                      \"itsm\n",
        "\n",
        "\n",
        "제한사항:\n",
        "• 문자열의 길이는 100을 넘지 않습니다.\n",
        "\n",
        "\"\"\""
      ],
      "metadata": {
        "id": "iR3eGHJwE315"
      },
      "execution_count": null,
      "outputs": []
    },
    {
      "cell_type": "code",
      "source": [
        "def solution(s):\n",
        "    answer = \"\"\n",
        "    for i in range(len(s)):\n",
        "        if s.find(s[i]) == i:\n",
        "            answer += s[i]\n",
        "    return answer\n",
        "\n",
        "\n",
        "print(solution(\"ksekkset\"))\n",
        "print(solution(\"itistime\"))\n",
        "print(solution(\"sssssttessskssee\"))"
      ],
      "metadata": {
        "colab": {
          "base_uri": "https://localhost:8080/"
        },
        "id": "Ynt-at3V7s8c",
        "outputId": "d9d721e1-6261-4cc6-b165-2ba6c241736e"
      },
      "execution_count": 6,
      "outputs": [
        {
          "output_type": "stream",
          "name": "stdout",
          "text": [
            "kset\n",
            "itsme\n",
            "stek\n"
          ]
        }
      ]
    },
    {
      "cell_type": "code",
      "source": [
        "def solution(s):\n",
        "    answer = \"\"\n",
        "    for i in range(len(s)):\n",
        "        if s.find(s[i]) == i:\n",
        "            answer += s[i]\n",
        "    return answer\n",
        "\n",
        "\n",
        "print(solution(\"ksekkset\"))\n",
        "print(solution(\"itistime\"))\n",
        "print(solution(\"sssssttessskssee\"))"
      ],
      "metadata": {
        "colab": {
          "base_uri": "https://localhost:8080/"
        },
        "id": "9p4rsi1j7s5n",
        "outputId": "ea6c4935-459c-406f-df70-584777dc1f91"
      },
      "execution_count": 9,
      "outputs": [
        {
          "output_type": "stream",
          "name": "stdout",
          "text": [
            "kset\n",
            "itsme\n",
            "stek\n"
          ]
        }
      ]
    },
    {
      "cell_type": "code",
      "source": [
        "def solution(s):\n",
        "    answer = \"\"\n",
        "    for i in range(len(s)):\n",
        "        if s.find(s[i]) == i:\n",
        "            answer += s[i]\n",
        "    return answer\n",
        "    \n",
        "print(solution(\"ksekkset\"))\n",
        "print(solution(\"itistime\"))\n",
        "print(solution(\"sssssttessskssee\"))"
      ],
      "metadata": {
        "colab": {
          "base_uri": "https://localhost:8080/"
        },
        "id": "2N5Lbjoy7s12",
        "outputId": "4ad512e0-7160-407b-c1b3-e63cddf0a03f"
      },
      "execution_count": 10,
      "outputs": [
        {
          "output_type": "stream",
          "name": "stdout",
          "text": [
            "kset\n",
            "itsme\n",
            "stek\n"
          ]
        }
      ]
    },
    {
      "cell_type": "code",
      "source": [
        "def solution(s):\n",
        "    answer = \"\"\n",
        "    for i in range(len(s)):\n",
        "        if s.find(s[i]) == i:\n",
        "            answer += s[i]\n",
        "    return answer\n",
        "\n",
        "print(solution(\"ksekkset\"))\n",
        "print(solution(\"itistime\"))\n",
        "print(solution(\"sssssttessskssee\"))"
      ],
      "metadata": {
        "colab": {
          "base_uri": "https://localhost:8080/"
        },
        "id": "QhFlvZnW7sv1",
        "outputId": "cb6ad948-e11f-4b23-e072-f0b40ab4e1e3"
      },
      "execution_count": 11,
      "outputs": [
        {
          "output_type": "stream",
          "name": "stdout",
          "text": [
            "kset\n",
            "itsme\n",
            "stek\n"
          ]
        }
      ]
    },
    {
      "cell_type": "code",
      "source": [
        "def solution(s):\n",
        "    answer = \"\"\n",
        "    for i in range(len(s)):\n",
        "        if s.find(s[i]) == i:\n",
        "            answer += s[i]\n",
        "\n",
        "    return answer\n",
        "\n",
        "\n",
        "print(solution(\"ksekkset\"))\n",
        "print(solution(\"itistime\"))\n",
        "print(solution(\"sssssttessskssee\"))"
      ],
      "metadata": {
        "colab": {
          "base_uri": "https://localhost:8080/"
        },
        "id": "3p3apVRo7sXq",
        "outputId": "b5828e1f-d4bb-4a0d-e864-696fa49ad4d4"
      },
      "execution_count": 13,
      "outputs": [
        {
          "output_type": "stream",
          "name": "stdout",
          "text": [
            "kset\n",
            "itsme\n",
            "stek\n"
          ]
        }
      ]
    },
    {
      "cell_type": "code",
      "source": [
        "#3번 : 공통문자열\n",
        "\n",
        "\"\"\"\n",
        "N개의 문자열이 주어지면 이 문자열들의 최대 공통 접두사를 출력하는 프로그램을 작성하세\n",
        "요. 만약 문자열들이 [“long\", \"longtime\", \"longest\"] 라면 세 단어의 최대 공통 접두사는 \n",
        "”long\"입니다.\n",
        "매개변수 s에 N개의 문자열이 주어지면 각 문자열들의 최대 공통 접두사를 반환하는 프로그램\n",
        "을 작성하세요. 공통 접두사는 반드시 존재합니다.\n",
        "\n",
        "입출력 예:\n",
        "\n",
        "              s                         result \n",
        "[\"long\", \"longtime\", \"longest\"]         \"long\"\n",
        "[\"lengi\", \"lengi\", \"lenti\"]             \"len\"\n",
        "[\"tesk\", \"tesking\", \"tesming\"]          \"tes\"\n",
        "\n",
        "\n",
        "제한사항:\n",
        "• 문자열 배열 s의 길이는 30을 넘지 않습니다.\n",
        "• 문자열 배열 s의 원소인 문자열은 길이가 100을 넘지 않습니다.\n",
        "\n",
        "\"\"\""
      ],
      "metadata": {
        "id": "4nqZdrO6E4Gz"
      },
      "execution_count": null,
      "outputs": []
    },
    {
      "cell_type": "code",
      "source": [
        "def solution(s):\n",
        "    answer = \"\"\n",
        "    for i in range(len(s[0])):\n",
        "        common = set()\n",
        "        for x in s:\n",
        "            common.add(x[i])\n",
        "        if len(common) == 1:\n",
        "            answer += s[0][i]\n",
        "        else:\n",
        "            break\n",
        "\n",
        "    return answer\n",
        "\n",
        "print(solution([\"tesk\", \"tesking\", \"tesming\"]))\n",
        "print(solution([\"lengi\", \"lengi\", \"lenti\"]))\n",
        "print(solution([\"long\", \"longtime\", \"longest\"]))\n"
      ],
      "metadata": {
        "colab": {
          "base_uri": "https://localhost:8080/"
        },
        "id": "g1N7dUxS9E4V",
        "outputId": "0b21457f-5a75-4235-e051-c6b74a0fe1cc"
      },
      "execution_count": 14,
      "outputs": [
        {
          "output_type": "stream",
          "name": "stdout",
          "text": [
            "tes\n",
            "len\n",
            "long\n"
          ]
        }
      ]
    },
    {
      "cell_type": "code",
      "source": [
        "def solution(s):\n",
        "    answer = \"\"\n",
        "    for i in range(len(s[0])):\n",
        "        common = set()\n",
        "        for x in s:\n",
        "            common.add(x[i])\n",
        "        if len(common) == 1:\n",
        "            answer += s[0][i] \n",
        "        else:\n",
        "            break\n",
        "\n",
        "    return answer\n",
        "\n",
        "print(solution([\"tesk\", \"tesking\", \"tesming\"]))\n",
        "print(solution([\"lengi\", \"lengi\", \"lenti\"]))\n",
        "print(solution([\"long\", \"longtime\", \"longest\"]))"
      ],
      "metadata": {
        "colab": {
          "base_uri": "https://localhost:8080/"
        },
        "id": "byKiNuk99Exa",
        "outputId": "c3f1ed81-51f4-4ea0-f103-cce42c3a73a8"
      },
      "execution_count": 17,
      "outputs": [
        {
          "output_type": "stream",
          "name": "stdout",
          "text": [
            "tes\n",
            "len\n",
            "long\n"
          ]
        }
      ]
    },
    {
      "cell_type": "code",
      "source": [
        "def solution(s):\n",
        "    answer = \"\"\n",
        "    for i in range(len(s[0])):\n",
        "        common = set()\n",
        "        for x in s:\n",
        "            common.add(x[i])\n",
        "        if len(common) == 1:\n",
        "            answer += s[0][i]\n",
        "        else:\n",
        "            break\n",
        "    return answer\n",
        "    \n",
        "print(solution([\"tesk\", \"tesking\", \"tesming\"]))\n",
        "print(solution([\"lengi\", \"lengi\", \"lenti\"]))\n",
        "print(solution([\"long\", \"longtime\", \"longest\"]))"
      ],
      "metadata": {
        "colab": {
          "base_uri": "https://localhost:8080/"
        },
        "id": "wxcEL4hc9Ep8",
        "outputId": "3c14a660-8497-49c5-af1c-8cd43a0f591d"
      },
      "execution_count": 19,
      "outputs": [
        {
          "output_type": "stream",
          "name": "stdout",
          "text": [
            "tes\n",
            "len\n",
            "long\n"
          ]
        }
      ]
    },
    {
      "cell_type": "code",
      "source": [
        "def solution(s):\n",
        "    answer = \"\"\n",
        "    for i in range(len(s[0])):\n",
        "        common = set()\n",
        "        for x in s:\n",
        "            common.add(x[i])\n",
        "        if len(common) == 1:\n",
        "            answer += s[0][i]\n",
        "        else:\n",
        "            break\n",
        "\n",
        "    return answer\n",
        "\n",
        "print(solution([\"tesk\", \"tesking\", \"tesming\"]))\n",
        "print(solution([\"lengi\", \"lengi\", \"lenti\"]))\n",
        "print(solution([\"long\", \"longtime\", \"longest\"]))"
      ],
      "metadata": {
        "colab": {
          "base_uri": "https://localhost:8080/"
        },
        "id": "iyHy7BGH9Emb",
        "outputId": "ed50f9a6-41f4-429a-e7d1-845416dba332"
      },
      "execution_count": 20,
      "outputs": [
        {
          "output_type": "stream",
          "name": "stdout",
          "text": [
            "tes\n",
            "len\n",
            "long\n"
          ]
        }
      ]
    },
    {
      "cell_type": "code",
      "source": [
        "def solution(s):\n",
        "    answer = \"\"\n",
        "    for i in range(len(s[0])):\n",
        "        common = set()\n",
        "        for x in s:\n",
        "            common.add(x[i])\n",
        "        if len(common) == 1:\n",
        "            answer += s[0][i]\n",
        "        else:\n",
        "            break\n",
        "\n",
        "    return answer\n",
        "\n",
        "print(solution([\"tesk\", \"tesking\", \"tesming\"]))\n",
        "print(solution([\"lengi\", \"lengi\", \"lenti\"]))\n",
        "print(solution([\"long\", \"longtime\", \"longest\"]))"
      ],
      "metadata": {
        "colab": {
          "base_uri": "https://localhost:8080/"
        },
        "id": "KuX7HpHQ9Ei8",
        "outputId": "1e5b5d75-7392-41bd-b4ef-fa06ad78e913"
      },
      "execution_count": 22,
      "outputs": [
        {
          "output_type": "stream",
          "name": "stdout",
          "text": [
            "tes\n",
            "len\n",
            "long\n"
          ]
        }
      ]
    },
    {
      "cell_type": "code",
      "source": [
        "#4번 : 회문 문자열\n",
        "\n",
        "\"\"\"\n",
        "앞에서 읽을 때나 뒤에서 읽을 때나 같은 문자열을 회문 문자열이라고 합니다.\n",
        "매개변수 s에 문자열이 입력되면 해당 문자열이 회문 문자열이면 \"YES\", 회문 문자열이 아니\n",
        "면 “NO\"를 출력하는 프로그램을 작성하세요.\n",
        "단 회문을 검사할 때 대소문자를 구분하지 않습니다.\n",
        "\n",
        "\n",
        "\n",
        "입출력 예:\n",
        "\n",
        "   s           result\n",
        "\"gooG\"          \"YES\"\n",
        "\"Moon\"          \"NO\"\n",
        "\"steets\"        \"YES\"\n",
        "\n",
        "\n",
        "제한사항:\n",
        "• 문자열 s의 길이는 100을 넘지 않습니다.\n",
        "\"\"\""
      ],
      "metadata": {
        "id": "6fwL-y1qE4Sd"
      },
      "execution_count": null,
      "outputs": []
    },
    {
      "cell_type": "code",
      "source": [
        "def solution(s):\n",
        "    answer = \"YES\"\n",
        "    s = s.upper()\n",
        "    left = 0\n",
        "    right = len(s) -1\n",
        "    while left < right:\n",
        "        if s[left] != s[right]:\n",
        "            return \"NO\"\n",
        "        else:\n",
        "            left += 1\n",
        "            right -= 1\n",
        "\n",
        "    return answer\n",
        "\n",
        "print(solution(\"steets\"))\n",
        "print(solution(\"Moon\"))\n",
        "print(solution(\"gooG\"))"
      ],
      "metadata": {
        "id": "voS5b1_0Byl5"
      },
      "execution_count": null,
      "outputs": []
    },
    {
      "cell_type": "code",
      "source": [
        "def solution(s):\n",
        "    answer = \"YES\"\n",
        "    s = s.upper()\n",
        "    left = 0\n",
        "    right = len(s) -1\n",
        "    while left < right:\n",
        "        if s[left] != s[right]:\n",
        "            return \"NO\"\n",
        "        else:\n",
        "            left += 1\n",
        "            right -= 1\n",
        "\n",
        "    return answer\n",
        "\n",
        "print(solution(\"steets\"))\n",
        "print(solution(\"Moon\"))\n",
        "print(solution(\"gooG\"))"
      ],
      "metadata": {
        "colab": {
          "base_uri": "https://localhost:8080/"
        },
        "id": "NrJZLAhaByf8",
        "outputId": "90b27839-ebd5-4558-b9e7-300aa9d656d6"
      },
      "execution_count": 23,
      "outputs": [
        {
          "output_type": "stream",
          "name": "stdout",
          "text": [
            "YES\n",
            "NO\n",
            "YES\n"
          ]
        }
      ]
    },
    {
      "cell_type": "code",
      "source": [
        "def solution(s):\n",
        "    answer = \"YES\"\n",
        "    s = s.upper()\n",
        "    left = 0\n",
        "    right = len(s) -1\n",
        "    while left < right:\n",
        "        if s[left] != s[right]:\n",
        "            return \"NO\"\n",
        "        else:\n",
        "            left += 1\n",
        "            right -= 1\n",
        "\n",
        "    return answer\n",
        "\n",
        "print(solution(\"steets\"))\n",
        "print(solution(\"Moon\"))\n",
        "print(solution(\"gooG\"))"
      ],
      "metadata": {
        "colab": {
          "base_uri": "https://localhost:8080/"
        },
        "id": "Wq_Ns4T8BybG",
        "outputId": "5c8708a6-c1ec-4d92-9ebd-6c4fd950c589"
      },
      "execution_count": 24,
      "outputs": [
        {
          "output_type": "stream",
          "name": "stdout",
          "text": [
            "YES\n",
            "NO\n",
            "YES\n"
          ]
        }
      ]
    },
    {
      "cell_type": "code",
      "source": [
        "def solution(s):\n",
        "    answer = \"YES\"\n",
        "    s = s.upper()\n",
        "    left = 0\n",
        "    right = len(s) -1\n",
        "    while left < right:\n",
        "        if s[left] != s[right]:\n",
        "            return \"NO\"\n",
        "        else:\n",
        "            left += 1\n",
        "            right -= 1\n",
        "\n",
        "    return answer\n",
        "\n",
        "print(solution(\"steets\"))\n",
        "print(solution(\"Moon\"))\n",
        "print(solution(\"gooG\"))"
      ],
      "metadata": {
        "colab": {
          "base_uri": "https://localhost:8080/"
        },
        "id": "oIxzdZDjByVh",
        "outputId": "a43ff6a3-6996-44cb-ac22-b104ef40f937"
      },
      "execution_count": 25,
      "outputs": [
        {
          "output_type": "stream",
          "name": "stdout",
          "text": [
            "YES\n",
            "NO\n",
            "YES\n"
          ]
        }
      ]
    },
    {
      "cell_type": "code",
      "source": [
        "def solution(s):\n",
        "    answer = \"YES\"\n",
        "    s = s.upper()\n",
        "    left = 0\n",
        "    right = len(s) -1\n",
        "    while left < right:\n",
        "        if s[left] != s[right]:\n",
        "            return \"NO\"\n",
        "        else:\n",
        "            left += 1\n",
        "            right -= 1\n",
        "\n",
        "    return answer\n",
        "\n",
        "print(solution(\"steets\"))\n",
        "print(solution(\"Moon\"))\n",
        "print(solution(\"gooG\"))"
      ],
      "metadata": {
        "colab": {
          "base_uri": "https://localhost:8080/"
        },
        "id": "KQk_lSrLByPm",
        "outputId": "ea5def99-bd33-4b01-ecfb-0299b0b4d015"
      },
      "execution_count": 26,
      "outputs": [
        {
          "output_type": "stream",
          "name": "stdout",
          "text": [
            "YES\n",
            "NO\n",
            "YES\n"
          ]
        }
      ]
    },
    {
      "cell_type": "code",
      "source": [
        "# 5번 : 보이는 학생\n",
        "\n",
        "\"\"\"\n",
        "\n",
        "선생님이 반 학생을 일렬로 세웠습니다. 일렬로 서 있는 학생의 키가 앞에서부터 순서대로 주\n",
        "어질 때, 맨 앞에 서 있는 선생님이 볼 수 있는 학생수가 몇 명인지 알고싶습니다. (앞에 서 \n",
        "있는 사람들보다 크면 보이고, 작거나 같으면 보이지 않습니다.)\n",
        "매개변수 nums에 일렬로 선 학생의 키가 앞학생부터 차례대로 주어지면 선생님이 볼 수 있는 \n",
        "학생수를 반환하는 프로그램을 작성하세요.\n",
        "\n",
        "입출력 예:\n",
        "\n",
        "nums                                           result\n",
        "[130, 135, 148, 140, 145, 150, 150, 153]         5\n",
        "[1, 2, 3, 4, 5]                                  5\n",
        "[5, 4, 3, 2, 1]                                  1\n",
        "[7, 7, 7, 7, 7, 7, 7]                            1\n",
        "[7, 7, 7, 9, 9, 9, 12]                           3\n",
        "\n",
        "\n",
        "제한사항:\n",
        "• nums 길이는 100,000을 넘지 않습니다.\n",
        "• nums의 원소값은 1이상 1000이하입니다.\n",
        "\n",
        "\n",
        "\n",
        "\"\"\""
      ],
      "metadata": {
        "id": "gDUWU--eE4ej"
      },
      "execution_count": null,
      "outputs": []
    },
    {
      "cell_type": "code",
      "source": [
        "def solution(nums):\n",
        "    answer = 1\n",
        "    maxH = nums[0]\n",
        "    for i in range(1, len(nums)):\n",
        "        if nums[i] > maxH:\n",
        "            maxH = nums[i]\n",
        "            answer += 1\n",
        "\n",
        "    return answer\n",
        "\n",
        "print(solution([130, 135, 148, 140, 145, 150, 150, 153]))\n",
        "print(solution([1, 2, 3, 4, 5]))\n",
        "print(solution([5, 4, 3, 2, 1]))\n",
        "print(solution([7, 7, 7, 7, 7, 7, 7]))\n",
        "print(solution([7, 7, 7, 9, 9, 9, 12]))"
      ],
      "metadata": {
        "colab": {
          "base_uri": "https://localhost:8080/"
        },
        "id": "moexZ8zWFPZo",
        "outputId": "bb6b8f58-dcb9-45b7-b106-483fb8d38adc"
      },
      "execution_count": 27,
      "outputs": [
        {
          "output_type": "stream",
          "name": "stdout",
          "text": [
            "5\n",
            "5\n",
            "1\n",
            "1\n",
            "3\n"
          ]
        }
      ]
    },
    {
      "cell_type": "code",
      "source": [
        "def soluution(nums):\n",
        "    answer = 1\n",
        "    maxH = nums[0]\n",
        "    for i in range(1, len(nums)):\n",
        "        if nums[i] > maxH:\n",
        "            maxH = nums[i]\n",
        "            answer += 1\n",
        "\n",
        "    return answer\n",
        "\n",
        "print(solution([130, 135, 148, 140, 145, 150, 150, 153]))\n",
        "print(solution([1, 2, 3, 4, 5]))\n",
        "print(solution([5, 4, 3, 2, 1]))\n",
        "print(solution([7, 7, 7, 7, 7, 7, 7]))\n",
        "print(solution([7, 7, 7, 9, 9, 9, 12]))"
      ],
      "metadata": {
        "colab": {
          "base_uri": "https://localhost:8080/"
        },
        "id": "O8I2JWJDFPW_",
        "outputId": "c4d08a2f-45b8-4e43-ff2e-35394658ccc9"
      },
      "execution_count": 29,
      "outputs": [
        {
          "output_type": "stream",
          "name": "stdout",
          "text": [
            "5\n",
            "5\n",
            "1\n",
            "1\n",
            "3\n"
          ]
        }
      ]
    },
    {
      "cell_type": "code",
      "source": [
        "def solution(nums):\n",
        "    answer = 1\n",
        "    maxH = nums[0]\n",
        "    for i in range(1, len(nums)):\n",
        "        if nums[i] > maxH:\n",
        "            maxH = nums[i]\n",
        "            answer += 1\n",
        "\n",
        "    return answer\n",
        "\n",
        "print(solution([130, 135, 148, 140, 145, 150, 150, 153]))\n",
        "print(solution([1, 2, 3, 4, 5]))\n",
        "print(solution([5, 4, 3, 2, 1]))\n",
        "print(solution([7, 7, 7, 7, 7, 7, 7]))\n",
        "print(solution([7, 7, 7, 9, 9, 9, 12]))"
      ],
      "metadata": {
        "colab": {
          "base_uri": "https://localhost:8080/"
        },
        "id": "vQT6_SfxFPUb",
        "outputId": "0e1b03d4-9724-4045-94e1-d559e0b86e32"
      },
      "execution_count": 30,
      "outputs": [
        {
          "output_type": "stream",
          "name": "stdout",
          "text": [
            "5\n",
            "5\n",
            "1\n",
            "1\n",
            "3\n"
          ]
        }
      ]
    },
    {
      "cell_type": "code",
      "source": [
        "def solution(nums):\n",
        "    answer = 1\n",
        "    maxH = nums[0]\n",
        "    for i in range(1, len(nums)):\n",
        "        if nums[i] > maxH:\n",
        "            maxH = nums[i]\n",
        "            answer += 1\n",
        "\n",
        "    return answer\n",
        "\n",
        "print(solution([130, 135, 148, 140, 145, 150, 150, 153]))\n",
        "print(solution([1, 2, 3, 4, 5]))\n",
        "print(solution([5, 4, 3, 2, 1]))\n",
        "print(solution([7, 7, 7, 7, 7, 7, 7]))\n",
        "print(solution([7, 7, 7, 9, 9, 9, 12]))"
      ],
      "metadata": {
        "colab": {
          "base_uri": "https://localhost:8080/"
        },
        "id": "Fd3gIpj-FPSC",
        "outputId": "32527334-8072-4ebd-a671-de412aa4be56"
      },
      "execution_count": 31,
      "outputs": [
        {
          "output_type": "stream",
          "name": "stdout",
          "text": [
            "5\n",
            "5\n",
            "1\n",
            "1\n",
            "3\n"
          ]
        }
      ]
    },
    {
      "cell_type": "code",
      "source": [
        "def solution(nums):\n",
        "    answer = 1\n",
        "    maxH = nums[0]\n",
        "    for i in range(1, len(nums)):\n",
        "        if nums[i] > maxH:\n",
        "            maxH = nums[i]\n",
        "            answer += 1\n",
        "\n",
        "    return answer\n",
        "\n",
        "print(solution([130, 135, 148, 140, 145, 150, 150, 153]))\n",
        "print(solution([1, 2, 3, 4, 5]))\n",
        "print(solution([5, 4, 3, 2, 1]))\n",
        "print(solution([7, 7, 7, 7, 7, 7, 7]))\n",
        "print(solution([7, 7, 7, 9, 9, 9, 12]))"
      ],
      "metadata": {
        "colab": {
          "base_uri": "https://localhost:8080/"
        },
        "id": "b8o6LF3XFPPX",
        "outputId": "0774ac4e-958c-429d-9f0e-7088de997909"
      },
      "execution_count": 34,
      "outputs": [
        {
          "output_type": "stream",
          "name": "stdout",
          "text": [
            "5\n",
            "5\n",
            "1\n",
            "1\n",
            "3\n"
          ]
        }
      ]
    },
    {
      "cell_type": "code",
      "source": [
        "#6번 : 점수계산 - 정부 올림피아드 기출 초등부 1번\n",
        "\n",
        "\n",
        "\"\"\"\n",
        "\n",
        "OX 문제는 맞거나 틀린 두 경우의 답을 가지는 문제를 말한다. 여러 개의 OX 문제로 만들어진 \n",
        "시험에서 연속적으로 답을 맞히는 경우에는 가산점을 주기 위해서 다음과 같이 점수 계산을 하기\n",
        "로 하였다. 1번 문제가 맞는 경우에는 1점으로 계산한다. 앞의 문제에 대해서는 답을 틀리다가 \n",
        "답이 맞는 처음 문제는 1점으로 계산한다. 또한, 연속으로 문제의 답이 맞는 경우에서 두 번째 \n",
        "문제는 2점, 세 번째 문제는 3점, ..., K번째 문제는 K점으로 계산한다. 틀린 문제는 0점으로 계\n",
        "산한다.\n",
        "예를 들어, 아래와 같이 10 개의 OX 문제에서 답이 맞은 문제의 경우에는 1로 표시하고, 틀린 경\n",
        "우에는 0으로 표시하였을 때, 점수 계산은 아래 표와 같이 계산되어, 총 점수는 \n",
        "1+1+2+3+1+2=10 점이다.\n",
        "\n",
        "\n",
        "입출력 예:\n",
        "\n",
        "nums result\n",
        "[1, 0, 1, 1, 1, 0, 0, 1, 1, 0]          10\n",
        "[1, 1, 1, 1, 1, 0, 1]                   16\n",
        "[0, 1, 0, 1, 0, 1, 1, 1]                8\n",
        "[0, 0, 0, 0, 0]                         0\n",
        "[1, 0, 0, 0, 1]                         2\n",
        "\n",
        "\n",
        "제한사항:\n",
        "• nums 길이는 100,000을 넘지 않습니다.\n",
        "\n",
        "\"\"\""
      ],
      "metadata": {
        "id": "BynUaq38E47S"
      },
      "execution_count": null,
      "outputs": []
    },
    {
      "cell_type": "code",
      "source": [
        "def solution(nums):\n",
        "    answer = 0\n",
        "    score = 0\n",
        "    for x in nums:\n",
        "        if x == 1:\n",
        "            score += 1\n",
        "            answer += score\n",
        "        else:\n",
        "            score = 0\n",
        "\n",
        "    return answer\n",
        "\n",
        "print(solution([1, 0, 1, 1, 1, 0, 0, 1, 1, 0]))\n",
        "print(solution([1, 1, 1, 1, 1, 0, 1]))\n",
        "print(solution([0, 1, 0, 1, 0, 1, 1, 1]))\n",
        "print(solution([0, 0, 0, 0, 0]))\n",
        "print(solution([1, 0, 0, 0, 1]))"
      ],
      "metadata": {
        "colab": {
          "base_uri": "https://localhost:8080/"
        },
        "id": "gY6QDMnaJPSE",
        "outputId": "36462f47-cca6-45e7-bd96-6f534695518f"
      },
      "execution_count": 35,
      "outputs": [
        {
          "output_type": "stream",
          "name": "stdout",
          "text": [
            "10\n",
            "16\n",
            "8\n",
            "0\n",
            "2\n"
          ]
        }
      ]
    },
    {
      "cell_type": "code",
      "source": [
        "def solution(nums):\n",
        "    answer = 0\n",
        "    score = 0\n",
        "    for x in nums:\n",
        "        if x == 1:\n",
        "            score += 1\n",
        "            answer += score\n",
        "\n",
        "        else:\n",
        "            score = 0\n",
        "\n",
        "    return answer\n",
        "\n",
        "print(solution([1, 0, 1, 1, 1, 0, 0, 1, 1, 0]))\n",
        "print(solution([1, 1, 1, 1, 1, 0, 1]))\n",
        "print(solution([0, 1, 0, 1, 0, 1, 1, 1]))\n",
        "print(solution([0, 0, 0, 0, 0]))\n",
        "print(solution([1, 0, 0, 0, 1]))\n"
      ],
      "metadata": {
        "colab": {
          "base_uri": "https://localhost:8080/"
        },
        "id": "fpKM0rIkJPP5",
        "outputId": "78482528-c40f-4e9c-a6c1-b57dfba2077b"
      },
      "execution_count": 36,
      "outputs": [
        {
          "output_type": "stream",
          "name": "stdout",
          "text": [
            "10\n",
            "16\n",
            "8\n",
            "0\n",
            "2\n"
          ]
        }
      ]
    },
    {
      "cell_type": "code",
      "source": [
        "def solution(nums):\n",
        "    answer = 0\n",
        "    score = 0\n",
        "    for x in nums:\n",
        "        if x == 1:\n",
        "            score += 1\n",
        "            answer += score\n",
        "\n",
        "        else:\n",
        "            score = 0\n",
        "\n",
        "    return answer\n",
        "\n",
        "print(solution([1, 0, 1, 1, 1, 0, 0, 1, 1, 0]))\n",
        "print(solution([1, 1, 1, 1, 1, 0, 1]))\n",
        "print(solution([0, 1, 0, 1, 0, 1, 1, 1]))\n",
        "print(solution([0, 0, 0, 0, 0]))\n",
        "print(solution([1, 0, 0, 0, 1]))"
      ],
      "metadata": {
        "colab": {
          "base_uri": "https://localhost:8080/"
        },
        "id": "gzaCNs3_JPNg",
        "outputId": "582665ed-81b4-41c7-fea2-f87bdfed52e0"
      },
      "execution_count": 37,
      "outputs": [
        {
          "output_type": "stream",
          "name": "stdout",
          "text": [
            "10\n",
            "16\n",
            "8\n",
            "0\n",
            "2\n"
          ]
        }
      ]
    },
    {
      "cell_type": "code",
      "source": [
        "def solution(nums):\n",
        "    answer = 0\n",
        "    score = 0\n",
        "    for i in nums:\n",
        "        if i == 1:\n",
        "            score += 1\n",
        "            answer += score\n",
        "        else:\n",
        "            score = 0\n",
        "\n",
        "    return answer\n",
        "\n",
        "print(solution([1, 0, 1, 1, 1, 0, 0, 1, 1, 0]))\n",
        "print(solution([1, 1, 1, 1, 1, 0, 1]))\n",
        "print(solution([0, 1, 0, 1, 0, 1, 1, 1]))\n",
        "print(solution([0, 0, 0, 0, 0]))\n",
        "print(solution([1, 0, 0, 0, 1]))"
      ],
      "metadata": {
        "colab": {
          "base_uri": "https://localhost:8080/"
        },
        "id": "CFOMAJwpJPLE",
        "outputId": "994caaba-1c55-4c5b-d120-7da8ee172b9c"
      },
      "execution_count": 38,
      "outputs": [
        {
          "output_type": "stream",
          "name": "stdout",
          "text": [
            "10\n",
            "16\n",
            "8\n",
            "0\n",
            "2\n"
          ]
        }
      ]
    },
    {
      "cell_type": "code",
      "source": [
        "def solution(nums):\n",
        "    answer = 0\n",
        "    score = 0\n",
        "    for i in nums:\n",
        "        if i == 1:\n",
        "            score += 1\n",
        "            answer += score\n",
        "        else:\n",
        "            score = 0\n",
        "\n",
        "    return answer\n",
        "\n",
        "print(solution([1, 0, 1, 1, 1, 0, 0, 1, 1, 0]))\n",
        "print(solution([1, 1, 1, 1, 1, 0, 1]))\n",
        "print(solution([0, 1, 0, 1, 0, 1, 1, 1]))\n",
        "print(solution([0, 0, 0, 0, 0]))\n",
        "print(solution([1, 0, 0, 0, 1]))"
      ],
      "metadata": {
        "colab": {
          "base_uri": "https://localhost:8080/"
        },
        "id": "ENOZGelgJPIl",
        "outputId": "06cec8d1-c6e6-498e-dd69-863fe09de43e"
      },
      "execution_count": 39,
      "outputs": [
        {
          "output_type": "stream",
          "name": "stdout",
          "text": [
            "10\n",
            "16\n",
            "8\n",
            "0\n",
            "2\n"
          ]
        }
      ]
    },
    {
      "cell_type": "code",
      "source": [
        "#7번 : 가장 높은 증가수열\n",
        "\n",
        "\"\"\"\n",
        "\n",
        "가장 높은 증가수열\n",
        "수열이 주어지면 이 수열에서 연속된 부분 증가수열을 찾습니다. 각 부분증가수열은 높이가 \n",
        "있습니다. 증가수열의 높이란 증가수열의 첫항과 마지막항의 차를 의미합니다.\n",
        "매개변수 nums에 수열이 주어지면 여러 증가수열 중 가장 높은 부분증가수열을 찾아 그 높이\n",
        "를 반환하는 프로그램을 작성하세요.\n",
        "만약 수열이 [5, 2, 4, 7, 7, 3, 9, 10, 11]이 주어지면 가장 높은 부분증가수열은 [3, 9, 10, \n",
        "11]이고, 높이는 8입니다. \n",
        "주의 : 이웃하는 두 수가 같을 경우 증가수열로 보지 않습니다.\n",
        "입출력 예:\n",
        "[8, 12, 2, 3, 7, 6, 12, 20, 3]       14\n",
        "[5, 2, 4, 7, 7, 3, 9, 10, 11]         8\n",
        "\n",
        "\n",
        "제한사항:\n",
        "• nums의 길이 3<= n <=100,000\n",
        "• 배열 nums의 원소는 자연수입니다.\n",
        "입력예제 2 설명 : \n",
        "가장 높은 부분증가수열은 [6, 20]입니다.\n",
        "\n",
        "\"\"\""
      ],
      "metadata": {
        "id": "rir9dqXnE5a_"
      },
      "execution_count": null,
      "outputs": []
    },
    {
      "cell_type": "code",
      "source": [
        "def solution(nums):\n",
        "    answer = 0\n",
        "    maxH = 0\n",
        "    for i in range(len(nums)-1):\n",
        "        if nums[i] < nums[i+1]:\n",
        "            maxH += (nums[i+1] - nums[i])\n",
        "        else:\n",
        "            answer = max(answer, maxH)\n",
        "            maxH = 0\n",
        "    answer = max(answer, maxH)\n",
        "    return answer\n",
        "\n",
        "print(solution([8, 12, 2, 3, 7, 6, 12, 20, 3]))\n",
        "print(solution([5, 2, 4, 7, 7, 3, 9, 10, 11]))"
      ],
      "metadata": {
        "colab": {
          "base_uri": "https://localhost:8080/"
        },
        "id": "Lq1edbxjLCen",
        "outputId": "6a247640-29e5-40b6-e0ca-bb6b27159aff"
      },
      "execution_count": 40,
      "outputs": [
        {
          "output_type": "stream",
          "name": "stdout",
          "text": [
            "14\n",
            "8\n"
          ]
        }
      ]
    },
    {
      "cell_type": "code",
      "source": [
        "def solution(nums):\n",
        "    answer = 0\n",
        "    maxH = 0\n",
        "    for i in range(len(nums)-1):\n",
        "        if nums[i] < nums[i+1]:\n",
        "            maxH += (nums[i+1] - nums[i])\n",
        "        else:\n",
        "            answer = max(answer, maxH)\n",
        "            maxH = 0\n",
        "\n",
        "    answer = max(answer, maxH)\n",
        "\n",
        "    return answer\n",
        "\n",
        "\n",
        "print(solution([8, 12, 2, 3, 7, 6, 12, 20, 3]))\n",
        "print(solution([5, 2, 4, 7, 7, 3, 9, 10, 11]))"
      ],
      "metadata": {
        "colab": {
          "base_uri": "https://localhost:8080/"
        },
        "id": "y3TGv5yHLCYp",
        "outputId": "ad979d32-4550-45a4-e5e7-36ba6b76abcf"
      },
      "execution_count": 41,
      "outputs": [
        {
          "output_type": "stream",
          "name": "stdout",
          "text": [
            "14\n",
            "8\n"
          ]
        }
      ]
    },
    {
      "cell_type": "code",
      "source": [
        "def solution(nums):\n",
        "    answer = 0\n",
        "    maxH = 0\n",
        "    for i in range(len(nums)-1):\n",
        "        if nums[i] < nums[i+1]:\n",
        "            maxH += (nums[i+1] - nums[i])\n",
        "        else:\n",
        "            answer = max(answer, maxH)\n",
        "            maxH = 0\n",
        "    answer = max(answer, maxH)\n",
        "\n",
        "    return answer\n",
        "\n",
        "print(solution([8, 12, 2, 3, 7, 6, 12, 20, 3]))\n",
        "print(solution([5, 2, 4, 7, 7, 3, 9, 10, 11]))"
      ],
      "metadata": {
        "colab": {
          "base_uri": "https://localhost:8080/"
        },
        "id": "m6amHXd6LCNQ",
        "outputId": "0567b1f6-de60-4c20-ca46-6159124f81f6"
      },
      "execution_count": 43,
      "outputs": [
        {
          "output_type": "stream",
          "name": "stdout",
          "text": [
            "14\n",
            "8\n"
          ]
        }
      ]
    },
    {
      "cell_type": "code",
      "source": [
        "def solution(nums):\n",
        "    answer = 0\n",
        "    maxH = 0\n",
        "    for i in range(len(nums) -1):\n",
        "        if nums[i] < nums[i+1]:\n",
        "            maxH += (nums[i+1] - nums[i])\n",
        "        else:\n",
        "            answer = max(answer, maxH)\n",
        "            maxH = 0\n",
        "\n",
        "    answer = max(answer, maxH)\n",
        "\n",
        "    return answer\n",
        "\n",
        "print(solution([8, 12, 2, 3, 7, 6, 12, 20, 3]))\n",
        "print(solution([5, 2, 4, 7, 7, 3, 9, 10, 11]))"
      ],
      "metadata": {
        "colab": {
          "base_uri": "https://localhost:8080/"
        },
        "id": "-Tm4yY5BLCKp",
        "outputId": "7b88ef22-7176-43b8-85ff-7cbaa8c6286c"
      },
      "execution_count": 42,
      "outputs": [
        {
          "output_type": "stream",
          "name": "stdout",
          "text": [
            "14\n",
            "8\n"
          ]
        }
      ]
    },
    {
      "cell_type": "code",
      "source": [
        "def solution(nums):\n",
        "    answer = 0\n",
        "    maxH = 0\n",
        "    for i in range(len(nums) -1):\n",
        "        if nums[i] < nums[i+1]:\n",
        "            maxH += (nums[i+1] - nums[i])\n",
        "        else:\n",
        "            answer = max(answer, maxH)\n",
        "            maxH = 0\n",
        "\n",
        "    answer = max(answer, maxH)\n",
        "    return answer\n",
        "\n",
        "print(solution([8, 12, 2, 3, 7, 6, 12, 20, 3]))\n",
        "print(solution([5, 2, 4, 7, 7, 3, 9, 10, 11]))"
      ],
      "metadata": {
        "colab": {
          "base_uri": "https://localhost:8080/"
        },
        "id": "CdPBe7YnLCIW",
        "outputId": "3d171edc-dcb3-47b1-c538-8ec04cb5accc"
      },
      "execution_count": 44,
      "outputs": [
        {
          "output_type": "stream",
          "name": "stdout",
          "text": [
            "14\n",
            "8\n"
          ]
        }
      ]
    },
    {
      "cell_type": "code",
      "source": [
        "def solution(nums):\n",
        "    answer = 0\n",
        "    maxH = 0\n",
        "    for i in range(len(nums) -1):\n",
        "        if nums[i] < nums[i+1]:\n",
        "            maxH += (nums[i+1] - nums[i])\n",
        "        else:\n",
        "            answer = max(answer, maxH)\n",
        "            maxH = 0\n",
        "\n",
        "    answer = max(answer, maxH)\n",
        "    return answer\n",
        "\n",
        "print(solution([8, 12, 2, 3, 7, 6, 12, 20, 3]))\n",
        "print(solution([5, 2, 4, 7, 7, 3, 9, 10, 11]))"
      ],
      "metadata": {
        "colab": {
          "base_uri": "https://localhost:8080/"
        },
        "id": "dvwiRefwNwis",
        "outputId": "bdd18788-8aea-4544-f8f2-f0329c3b62d7"
      },
      "execution_count": 45,
      "outputs": [
        {
          "output_type": "stream",
          "name": "stdout",
          "text": [
            "14\n",
            "8\n"
          ]
        }
      ]
    },
    {
      "cell_type": "code",
      "source": [
        "#8번 : 학급 회장\n",
        "\n",
        "\"\"\"\n",
        "\n",
        "\n",
        "학급 회장을 뽑는데 후보로 기호 A, B, C, D, E 후보가 등록을 했습니다.\n",
        "투표용지에는 반 학생들이 자기가 선택한 후보의 기호(알파벳)가 쓰여져 있으며 선생님은 그 \n",
        "기호를 발표하고 있습니다.\n",
        "매개변수 s에 투표용지에 쓰여져 있던 각 후보의 기호가 선생님이 발표한 순서대로 문자열로 \n",
        "주어지면 어떤 기호의 후보가 학급 회장이 되었는지 반환하는 프로그램을 작성하세요.\n",
        "반드시 한 명의 학급회장이 선출되도록 투표결과가 나왔다고 가정합니다.\n",
        "입출력 예:\n",
        "\n",
        "\"BACBACCACCBDEDE\"               C\n",
        "\"AAAAABBCCDDDD\"                 A\n",
        "\n",
        "제한사항:\n",
        "• 문자열 s의 길이는 100을 넘지 않습니다.\n",
        "입력예제 1 설명 : \n",
        "A기호 3표, B기호 3표, C기호 5표, D기호 2표, E기호 2표 를 받아 C가 학급회장이 되었습니다\n",
        "\n",
        "\"\"\""
      ],
      "metadata": {
        "id": "9FS-ph7MGjJ_"
      },
      "execution_count": null,
      "outputs": []
    },
    {
      "cell_type": "code",
      "source": [
        "import collections\n",
        "def solution(s):\n",
        "    answer = \"\"\n",
        "    sH = collections.Counter(s)\n",
        "    maxC = 0\n",
        "    for key, val in sH.items():\n",
        "        if val > maxC:\n",
        "            maxC = val\n",
        "            answer = key\n",
        "    return answer\n",
        "\n",
        "print(solution(\"BACBACCACCBDEDE\"))\n",
        "print(solution(\"AAAAABBCCDDDD\"))"
      ],
      "metadata": {
        "colab": {
          "base_uri": "https://localhost:8080/"
        },
        "id": "armO_SEGOSze",
        "outputId": "1c10d270-90b3-4d11-fea4-ec33ad067262"
      },
      "execution_count": 47,
      "outputs": [
        {
          "output_type": "stream",
          "name": "stdout",
          "text": [
            "C\n",
            "A\n"
          ]
        }
      ]
    },
    {
      "cell_type": "code",
      "source": [
        "import collections\n",
        "def solution(s):\n",
        "    answer = \"\"\n",
        "    sH = collections.Counter(s)\n",
        "    maxC = 0\n",
        "    for key, val in sH.items():\n",
        "        if val > maxC:\n",
        "            maxC = val\n",
        "            answer = key\n",
        "    \n",
        "    return answer\n",
        "\n",
        "print(solution(\"BACBACCACCBDEDE\"))\n",
        "print(solution(\"AAAAABBCCDDDD\"))"
      ],
      "metadata": {
        "colab": {
          "base_uri": "https://localhost:8080/"
        },
        "id": "lymUwIwaOSwz",
        "outputId": "79a14370-ad4a-4ae0-dae9-b11348523201"
      },
      "execution_count": 48,
      "outputs": [
        {
          "output_type": "stream",
          "name": "stdout",
          "text": [
            "C\n",
            "A\n"
          ]
        }
      ]
    },
    {
      "cell_type": "code",
      "source": [
        "import collections\n",
        "def solution(s):\n",
        "    answer = \"\"\n",
        "    sH = collections.Counter(s)\n",
        "    maxC = 0\n",
        "    for key, val in sH.items():\n",
        "        if val > maxC:\n",
        "            maxC = val\n",
        "            answer = key\n",
        "\n",
        "    return answer\n",
        "\n",
        "print(solution(\"BACBACCACCBDEDE\"))\n",
        "print(solution(\"AAAAABBCCDDDD\"))"
      ],
      "metadata": {
        "colab": {
          "base_uri": "https://localhost:8080/"
        },
        "id": "Ur1G5y6GOSuX",
        "outputId": "22c84fca-6dd0-4e10-e91e-b49f17f28fb3"
      },
      "execution_count": 50,
      "outputs": [
        {
          "output_type": "stream",
          "name": "stdout",
          "text": [
            "C\n",
            "A\n"
          ]
        }
      ]
    },
    {
      "cell_type": "code",
      "source": [
        "import collections\n",
        "def solution(s):\n",
        "    answer = \"\"\n",
        "    maxC = 0\n",
        "    sH = collections.Counter(s)\n",
        "    for key, val in sH.items():\n",
        "        if val > maxC:\n",
        "            maxC = val\n",
        "            answer = key\n",
        "\n",
        "    return answer\n",
        "\n",
        "print(solution(\"BACBACCACCBDEDE\"))\n",
        "print(solution(\"AAAAABBCCDDDD\"))"
      ],
      "metadata": {
        "colab": {
          "base_uri": "https://localhost:8080/"
        },
        "id": "WXKa9UZuOSru",
        "outputId": "d07fcd3f-81d2-4495-bb2e-daa95703493a"
      },
      "execution_count": 51,
      "outputs": [
        {
          "output_type": "stream",
          "name": "stdout",
          "text": [
            "C\n",
            "A\n"
          ]
        }
      ]
    },
    {
      "cell_type": "code",
      "source": [
        "import collections\n",
        "def solution(s):\n",
        "    maxC = 0\n",
        "    answer = \"\"\n",
        "    sH = collections.Counter(s)\n",
        "    for key, val in sH.items():\n",
        "        if val > maxC:\n",
        "            maxC = val\n",
        "            answer = key\n",
        "\n",
        "    return answer\n",
        "\n",
        "print(solution(\"BACBACCACCBDEDE\"))\n",
        "print(solution(\"AAAAABBCCDDDD\"))"
      ],
      "metadata": {
        "colab": {
          "base_uri": "https://localhost:8080/"
        },
        "id": "YzbN80_3OSpV",
        "outputId": "cdd2a527-b0ff-4bb1-c2ee-a51df9ea5cff"
      },
      "execution_count": 52,
      "outputs": [
        {
          "output_type": "stream",
          "name": "stdout",
          "text": [
            "C\n",
            "A\n"
          ]
        }
      ]
    },
    {
      "cell_type": "code",
      "source": [
        "#9번 : 한번 사용한 최초 문자\n",
        "\n",
        "\n",
        "\"\"\"\n",
        "문자열에서 한번만 사용한 문자를 찾으려고 합니다.\n",
        "한번만 사용한 문자 중 문자열에서 가장 먼저 나타난 문자의 인덱스 번호를 반환하는 프로그\n",
        "램을 작성하세요. 인덱스는 1부터 시작합니다. 한번만 사용한 문자가 없을 경우 -1를 반환하\n",
        "세요.\n",
        "입출력 예:\n",
        "\"statitsics\"         3\n",
        "\"aabb\"               -1\n",
        "\"stringshowtime\"     3\n",
        "\n",
        "\n",
        "제한사항:\n",
        "• 문자열 s의 길이는 100을 넘지 않습니다.\n",
        "• 문자열은 소문자로만 이루어져 있습니다.\n",
        "입력예제 1 설명 : \n",
        "한번만 사용한 문자는 a, c이고, 문자열에서 먼저 나타난 것은 a이고 인덱스는 3입니다.\n",
        "\"\"\""
      ],
      "metadata": {
        "id": "3JQw5wnkFKy8"
      },
      "execution_count": null,
      "outputs": []
    },
    {
      "cell_type": "code",
      "source": [
        "#10번 : 빈도수가 1인 가장 큰 숫자\n",
        "\n",
        "\"\"\"\n",
        "\n",
        "빈도수가 1인 가장 큰 숫자\n",
        "수열의 원소 중 빈도수가 1인 가장 큰 숫자를 찾으려고 합니다.\n",
        "매개변수 nums에 수열이 주어지면 빈도수가 1인 숫자 중 가장 큰 숫자를 찾아 반환하는 프로\n",
        "그램을 작성하세요. 빈도수가 1인 숫자가 없으면 -1를 반환합니다.\n",
        "입출력 예:\n",
        "[1, 1, 2, 2, 3, 4, 5, 7, 7]                 5\n",
        "[3, 8, 3, 3, 5, 1, 1, 1, 7, 2, 2]           8\n",
        "[1, 2, 5, 4, 3, 2, 3, 1, 4, 5]             -1\n",
        "\n",
        "\n",
        "제한사항:\n",
        "• nums의 길이 3<= n <=100,000\n",
        "• nums의 원소는 1,000을 넘지 않는 자연수입니다.\n",
        "\n",
        "\n",
        "\"\"\""
      ],
      "metadata": {
        "id": "jGkmpn1nFK9f"
      },
      "execution_count": null,
      "outputs": []
    },
    {
      "cell_type": "code",
      "source": [
        "#11번 : 자기 분열수\n",
        "\n",
        "\"\"\"\n",
        "\n",
        "자기 분열수\n",
        "자기 분열수란 배열의 원소 중 자기 숫자만큼 빈도수를 갖는 숫자를 의미합니다.\n",
        "만약 배열이 [1, 2, 3, 1, 3, 3, 2, 4] 라면 1의 빈도수는 2, 2의 빈도수는 2, 3의 빈도수는 \n",
        "3, 4의 빈도수는 1입니다. 여기서 자기 숫자와 같은 빈도수를 갖는 자기 분열수는 2와 3입니\n",
        "다.\n",
        "매개변수 nums에 자연수가 원소인 배열이 주어지면 이 배열에서 자기 분열수 중 가장 작은 \n",
        "수를 찾아 반환하는 프로그램을 작성하세요. 자기 분열수가 존재하지 않으면 -1를 반환하세\n",
        "요.\n",
        "입출력 예:\n",
        "\n",
        "[1, 2, 3, 1, 3, 3, 2, 4]                2\n",
        "[1, 2, 3, 3, 3, 2, 4, 5, 5, 5]          1\n",
        "[1, 2, 5, 5, 5, 5, 5, 3, 3, 3]          1\n",
        "[1, 2, 3, 3, 5, 1]                      -1\n",
        "제한사항:\n",
        "• nums 길이는 100,000을 넘지 않습니다.\n",
        "• nums의 원소는 1,000,000,000을 넘지 않습니다.\n",
        "\n",
        "\"\"\""
      ],
      "metadata": {
        "id": "3F2W7K0_FLIV"
      },
      "execution_count": null,
      "outputs": []
    },
    {
      "cell_type": "code",
      "source": [
        "#12번 : 같은 빈도수 만들기\n",
        "\n",
        "\n",
        "\"\"\"\n",
        "소문자 a, b, c로 이루어진 문자열이 주어지면 해당 문자열에서 a, b, c의 최소의 개수를 추가\n",
        "하여 a, b, c의 빈도수가 동일하게 되도록 해야 합니다. 동일빈도수가 되는 최소 추가 개수를 \n",
        "알파벳 a, b, c순으로 배열에 저장하여 반환하는 프로그램을 작성하세요.\n",
        "만약 주어진 문자열이 \"aaabc\" 라면 빈도수는 a:3 , b:1, c:1 이고 최소 개수를 추가하여 동일 \n",
        "빈도수가 되게 하려면 b를 2개 추가, c를 2개 추가하면 모두 빈도수가 3개로 동일해집니다.\n",
        "입출력 예:\n",
        "\n",
        "\"aaabc\"             [0, 2, 2]\n",
        "\"aabb\"              [0, 0, 2]\n",
        "\"abc\"               [0, 0, 0]\n",
        "\n",
        "\n",
        "제한사항:   \n",
        "• 문자열 s의 길이는 100을 넘지 않습니다.\n",
        "\n",
        "\"\"\""
      ],
      "metadata": {
        "id": "OvzgFOU0Gmvz"
      },
      "execution_count": null,
      "outputs": []
    }
  ]
}